{
 "cells": [
  {
   "cell_type": "code",
   "execution_count": 110,
   "metadata": {
    "id": "fcioG-KMUBh-"
   },
   "outputs": [],
   "source": [
    "#pip install scikit-surprise"
   ]
  },
  {
   "cell_type": "markdown",
   "metadata": {
    "id": "6w1lm9jOjbpV"
   },
   "source": [
    "### Importing Libraries"
   ]
  },
  {
   "cell_type": "code",
   "execution_count": 4,
   "metadata": {
    "id": "v3734OvvODbD"
   },
   "outputs": [],
   "source": [
    "import numpy as np\n",
    "import pandas as pd\n",
    "import matplotlib.pyplot as plt\n",
    "import seaborn as sns\n",
    "%matplotlib inline\n",
    "from surprise import SVD, Reader, Dataset \n",
    "from surprise.model_selection import cross_validate\n",
    "\n",
    "import warnings\n",
    "warnings.filterwarnings('ignore')"
   ]
  },
  {
   "cell_type": "markdown",
   "metadata": {
    "id": "CoI-Avyyk51N"
   },
   "source": [
    "## Reading Data:-"
   ]
  },
  {
   "cell_type": "code",
   "execution_count": 5,
   "metadata": {
    "colab": {
     "base_uri": "https://localhost:8080/",
     "height": 204
    },
    "id": "jlTi2EwBTqKn",
    "outputId": "6926cf82-fcb6-41fb-9bf2-377834af4a9f"
   },
   "outputs": [
    {
     "data": {
      "text/html": [
       "<div>\n",
       "<style scoped>\n",
       "    .dataframe tbody tr th:only-of-type {\n",
       "        vertical-align: middle;\n",
       "    }\n",
       "\n",
       "    .dataframe tbody tr th {\n",
       "        vertical-align: top;\n",
       "    }\n",
       "\n",
       "    .dataframe thead th {\n",
       "        text-align: right;\n",
       "    }\n",
       "</style>\n",
       "<table border=\"1\" class=\"dataframe\">\n",
       "  <thead>\n",
       "    <tr style=\"text-align: right;\">\n",
       "      <th></th>\n",
       "      <th>Order</th>\n",
       "      <th>Buyer Name</th>\n",
       "      <th>PinCode</th>\n",
       "      <th>Crop Name</th>\n",
       "      <th>Qty</th>\n",
       "      <th>Crop ID</th>\n",
       "      <th>Created Date</th>\n",
       "    </tr>\n",
       "  </thead>\n",
       "  <tbody>\n",
       "    <tr>\n",
       "      <th>0</th>\n",
       "      <td>230614</td>\n",
       "      <td>Monika Khatri</td>\n",
       "      <td>160055</td>\n",
       "      <td>Carrot</td>\n",
       "      <td>1</td>\n",
       "      <td>2856</td>\n",
       "      <td>2021-05-09</td>\n",
       "    </tr>\n",
       "    <tr>\n",
       "      <th>1</th>\n",
       "      <td>230561</td>\n",
       "      <td>Lovely walia</td>\n",
       "      <td>160071</td>\n",
       "      <td>Mango</td>\n",
       "      <td>2</td>\n",
       "      <td>2896</td>\n",
       "      <td>2021-04-29</td>\n",
       "    </tr>\n",
       "    <tr>\n",
       "      <th>2</th>\n",
       "      <td>230614</td>\n",
       "      <td>Monika Khatri</td>\n",
       "      <td>160055</td>\n",
       "      <td>Coriander Seeds</td>\n",
       "      <td>2</td>\n",
       "      <td>2870</td>\n",
       "      <td>2021-05-09</td>\n",
       "    </tr>\n",
       "    <tr>\n",
       "      <th>3</th>\n",
       "      <td>230561</td>\n",
       "      <td>Lovely walia</td>\n",
       "      <td>160071</td>\n",
       "      <td>Honey</td>\n",
       "      <td>1</td>\n",
       "      <td>2895</td>\n",
       "      <td>2021-04-29</td>\n",
       "    </tr>\n",
       "    <tr>\n",
       "      <th>4</th>\n",
       "      <td>230561</td>\n",
       "      <td>Lovely walia</td>\n",
       "      <td>160071</td>\n",
       "      <td>Coriander Seeds</td>\n",
       "      <td>1</td>\n",
       "      <td>2870</td>\n",
       "      <td>2021-04-29</td>\n",
       "    </tr>\n",
       "  </tbody>\n",
       "</table>\n",
       "</div>"
      ],
      "text/plain": [
       "    Order     Buyer Name  PinCode        Crop Name  Qty  Crop ID Created Date\n",
       "0  230614  Monika Khatri   160055           Carrot    1     2856   2021-05-09\n",
       "1  230561   Lovely walia   160071            Mango    2     2896   2021-04-29\n",
       "2  230614  Monika Khatri   160055  Coriander Seeds    2     2870   2021-05-09\n",
       "3  230561   Lovely walia   160071            Honey    1     2895   2021-04-29\n",
       "4  230561   Lovely walia   160071  Coriander Seeds    1     2870   2021-04-29"
      ]
     },
     "execution_count": 5,
     "metadata": {
      "tags": []
     },
     "output_type": "execute_result"
    }
   ],
   "source": [
    "df = pd.read_excel('/content/HFN Portal.xlsx')\n",
    "df.head()"
   ]
  },
  {
   "cell_type": "code",
   "execution_count": 6,
   "metadata": {
    "colab": {
     "base_uri": "https://localhost:8080/"
    },
    "id": "ktQiYHM1YuFD",
    "outputId": "b0a116e2-3a12-4b77-ccc3-25a2b93e5bea"
   },
   "outputs": [
    {
     "data": {
      "text/plain": [
       "(3402, 7)"
      ]
     },
     "execution_count": 6,
     "metadata": {
      "tags": []
     },
     "output_type": "execute_result"
    }
   ],
   "source": [
    "df.shape"
   ]
  },
  {
   "cell_type": "code",
   "execution_count": 7,
   "metadata": {
    "colab": {
     "base_uri": "https://localhost:8080/"
    },
    "id": "Z4YciTuoUXZs",
    "outputId": "ee93b963-6048-42f8-8088-64e5f1fb446c"
   },
   "outputs": [
    {
     "name": "stdout",
     "output_type": "stream",
     "text": [
      "<class 'pandas.core.frame.DataFrame'>\n",
      "RangeIndex: 3402 entries, 0 to 3401\n",
      "Data columns (total 7 columns):\n",
      " #   Column        Non-Null Count  Dtype         \n",
      "---  ------        --------------  -----         \n",
      " 0   Order         3402 non-null   int64         \n",
      " 1   Buyer Name    3402 non-null   object        \n",
      " 2   PinCode       3402 non-null   int64         \n",
      " 3   Crop Name     3402 non-null   object        \n",
      " 4   Qty           3402 non-null   int64         \n",
      " 5   Crop ID       3402 non-null   int64         \n",
      " 6   Created Date  3402 non-null   datetime64[ns]\n",
      "dtypes: datetime64[ns](1), int64(4), object(2)\n",
      "memory usage: 186.2+ KB\n"
     ]
    }
   ],
   "source": [
    "df.info()"
   ]
  },
  {
   "cell_type": "code",
   "execution_count": 8,
   "metadata": {
    "colab": {
     "base_uri": "https://localhost:8080/",
     "height": 297
    },
    "id": "JZsW8j2qV4OA",
    "outputId": "ede92689-dbf6-4324-f452-46a9e2690780"
   },
   "outputs": [
    {
     "data": {
      "text/html": [
       "<div>\n",
       "<style scoped>\n",
       "    .dataframe tbody tr th:only-of-type {\n",
       "        vertical-align: middle;\n",
       "    }\n",
       "\n",
       "    .dataframe tbody tr th {\n",
       "        vertical-align: top;\n",
       "    }\n",
       "\n",
       "    .dataframe thead th {\n",
       "        text-align: right;\n",
       "    }\n",
       "</style>\n",
       "<table border=\"1\" class=\"dataframe\">\n",
       "  <thead>\n",
       "    <tr style=\"text-align: right;\">\n",
       "      <th></th>\n",
       "      <th>Order</th>\n",
       "      <th>PinCode</th>\n",
       "      <th>Qty</th>\n",
       "      <th>Crop ID</th>\n",
       "    </tr>\n",
       "  </thead>\n",
       "  <tbody>\n",
       "    <tr>\n",
       "      <th>count</th>\n",
       "      <td>3402.000000</td>\n",
       "      <td>3402.000000</td>\n",
       "      <td>3402.000000</td>\n",
       "      <td>3402.000000</td>\n",
       "    </tr>\n",
       "    <tr>\n",
       "      <th>mean</th>\n",
       "      <td>231287.301293</td>\n",
       "      <td>407955.083186</td>\n",
       "      <td>1.390653</td>\n",
       "      <td>2919.013815</td>\n",
       "    </tr>\n",
       "    <tr>\n",
       "      <th>std</th>\n",
       "      <td>482.546955</td>\n",
       "      <td>192812.680655</td>\n",
       "      <td>1.299789</td>\n",
       "      <td>107.595014</td>\n",
       "    </tr>\n",
       "    <tr>\n",
       "      <th>min</th>\n",
       "      <td>230521.000000</td>\n",
       "      <td>110001.000000</td>\n",
       "      <td>1.000000</td>\n",
       "      <td>2727.000000</td>\n",
       "    </tr>\n",
       "    <tr>\n",
       "      <th>25%</th>\n",
       "      <td>230798.250000</td>\n",
       "      <td>201002.000000</td>\n",
       "      <td>1.000000</td>\n",
       "      <td>2822.000000</td>\n",
       "    </tr>\n",
       "    <tr>\n",
       "      <th>50%</th>\n",
       "      <td>231267.000000</td>\n",
       "      <td>500048.000000</td>\n",
       "      <td>1.000000</td>\n",
       "      <td>2903.000000</td>\n",
       "    </tr>\n",
       "    <tr>\n",
       "      <th>75%</th>\n",
       "      <td>231715.000000</td>\n",
       "      <td>560055.000000</td>\n",
       "      <td>1.000000</td>\n",
       "      <td>3031.000000</td>\n",
       "    </tr>\n",
       "    <tr>\n",
       "      <th>max</th>\n",
       "      <td>232103.000000</td>\n",
       "      <td>852212.000000</td>\n",
       "      <td>32.000000</td>\n",
       "      <td>3067.000000</td>\n",
       "    </tr>\n",
       "  </tbody>\n",
       "</table>\n",
       "</div>"
      ],
      "text/plain": [
       "               Order        PinCode          Qty      Crop ID\n",
       "count    3402.000000    3402.000000  3402.000000  3402.000000\n",
       "mean   231287.301293  407955.083186     1.390653  2919.013815\n",
       "std       482.546955  192812.680655     1.299789   107.595014\n",
       "min    230521.000000  110001.000000     1.000000  2727.000000\n",
       "25%    230798.250000  201002.000000     1.000000  2822.000000\n",
       "50%    231267.000000  500048.000000     1.000000  2903.000000\n",
       "75%    231715.000000  560055.000000     1.000000  3031.000000\n",
       "max    232103.000000  852212.000000    32.000000  3067.000000"
      ]
     },
     "execution_count": 8,
     "metadata": {
      "tags": []
     },
     "output_type": "execute_result"
    }
   ],
   "source": [
    "df.describe()"
   ]
  },
  {
   "cell_type": "code",
   "execution_count": 9,
   "metadata": {
    "colab": {
     "base_uri": "https://localhost:8080/"
    },
    "id": "j0IsWFIuY2XD",
    "outputId": "7596654c-c985-4ca2-c8da-2c58ddf3535a"
   },
   "outputs": [
    {
     "name": "stdout",
     "output_type": "stream",
     "text": [
      "Dataset is from 2021-04-13 00:00:00 to 2021-07-05 00:00:00\n"
     ]
    }
   ],
   "source": [
    "start_date = min(df['Created Date'])\n",
    "end_date = max(df['Created Date'])\n",
    "print('Dataset is from {} to {}'.format(start_date,end_date))     # i.e. data is from 13 April to 5 July"
   ]
  },
  {
   "cell_type": "markdown",
   "metadata": {
    "id": "TN_EIDLlZJFt"
   },
   "source": [
    "### Encoding Buyer name to category type Buyer ID"
   ]
  },
  {
   "cell_type": "code",
   "execution_count": 10,
   "metadata": {
    "colab": {
     "base_uri": "https://localhost:8080/",
     "height": 142
    },
    "id": "le2U6KjbY70l",
    "outputId": "0d3b7123-3bd6-4c08-90de-aabe63161e55"
   },
   "outputs": [
    {
     "data": {
      "text/html": [
       "<div>\n",
       "<style scoped>\n",
       "    .dataframe tbody tr th:only-of-type {\n",
       "        vertical-align: middle;\n",
       "    }\n",
       "\n",
       "    .dataframe tbody tr th {\n",
       "        vertical-align: top;\n",
       "    }\n",
       "\n",
       "    .dataframe thead th {\n",
       "        text-align: right;\n",
       "    }\n",
       "</style>\n",
       "<table border=\"1\" class=\"dataframe\">\n",
       "  <thead>\n",
       "    <tr style=\"text-align: right;\">\n",
       "      <th></th>\n",
       "      <th>Order</th>\n",
       "      <th>Buyer Name</th>\n",
       "      <th>PinCode</th>\n",
       "      <th>Crop Name</th>\n",
       "      <th>Qty</th>\n",
       "      <th>Crop ID</th>\n",
       "      <th>Created Date</th>\n",
       "      <th>Buyer ID</th>\n",
       "    </tr>\n",
       "  </thead>\n",
       "  <tbody>\n",
       "    <tr>\n",
       "      <th>0</th>\n",
       "      <td>230614</td>\n",
       "      <td>Monika Khatri</td>\n",
       "      <td>160055</td>\n",
       "      <td>Carrot</td>\n",
       "      <td>1</td>\n",
       "      <td>2856</td>\n",
       "      <td>2021-05-09</td>\n",
       "      <td>291</td>\n",
       "    </tr>\n",
       "    <tr>\n",
       "      <th>1</th>\n",
       "      <td>230561</td>\n",
       "      <td>Lovely walia</td>\n",
       "      <td>160071</td>\n",
       "      <td>Mango</td>\n",
       "      <td>2</td>\n",
       "      <td>2896</td>\n",
       "      <td>2021-04-29</td>\n",
       "      <td>259</td>\n",
       "    </tr>\n",
       "    <tr>\n",
       "      <th>2</th>\n",
       "      <td>230614</td>\n",
       "      <td>Monika Khatri</td>\n",
       "      <td>160055</td>\n",
       "      <td>Coriander Seeds</td>\n",
       "      <td>2</td>\n",
       "      <td>2870</td>\n",
       "      <td>2021-05-09</td>\n",
       "      <td>291</td>\n",
       "    </tr>\n",
       "  </tbody>\n",
       "</table>\n",
       "</div>"
      ],
      "text/plain": [
       "    Order     Buyer Name  PinCode  ... Crop ID  Created Date  Buyer ID\n",
       "0  230614  Monika Khatri   160055  ...    2856    2021-05-09       291\n",
       "1  230561   Lovely walia   160071  ...    2896    2021-04-29       259\n",
       "2  230614  Monika Khatri   160055  ...    2870    2021-05-09       291\n",
       "\n",
       "[3 rows x 8 columns]"
      ]
     },
     "execution_count": 10,
     "metadata": {
      "tags": []
     },
     "output_type": "execute_result"
    }
   ],
   "source": [
    "df['Buyer ID'] = df['Buyer Name'].astype('category')\n",
    "df['Buyer ID'] = df['Buyer ID'].cat.codes  \n",
    "df.head(3)"
   ]
  },
  {
   "cell_type": "code",
   "execution_count": 109,
   "metadata": {
    "colab": {
     "base_uri": "https://localhost:8080/"
    },
    "id": "-V9KYF-xZG-Q",
    "outputId": "b79a5b6a-ebd1-41e3-b27c-0943baf9f1c9"
   },
   "outputs": [
    {
     "name": "stdout",
     "output_type": "stream",
     "text": [
      "Total data: \n",
      "------------------------------\n",
      "\n",
      "Number of unique buyers : 652\n",
      "Number of unique crops   : 159\n"
     ]
    }
   ],
   "source": [
    "print(\"Total data: \")\n",
    "print(\"-\"*30)\n",
    "print(\"\\nNumber of unique buyers :\", df['Buyer ID'].nunique())\n",
    "print(\"Number of unique crops   :\", df['Crop ID'].nunique())\n",
    "#print(\"Number of unique pincodes :\", df['PinCode'].nunique())"
   ]
  },
  {
   "cell_type": "markdown",
   "metadata": {
    "id": "zuxvNe5KcwVm"
   },
   "source": [
    "# Exploratory Data Analysis:-\n"
   ]
  },
  {
   "cell_type": "code",
   "execution_count": 12,
   "metadata": {
    "colab": {
     "base_uri": "https://localhost:8080/",
     "height": 391
    },
    "id": "13-ZVNk2crlx",
    "outputId": "230291e2-5220-41d8-e150-a1fcaeedb1ac"
   },
   "outputs": [
    {
     "data": {
      "image/png": "[encoded data removed]",
      "text/plain": [
       "<Figure size 720x432 with 1 Axes>"
      ]
     },
     "metadata": {
      "needs_background": "light",
      "tags": []
     },
     "output_type": "display_data"
    }
   ],
   "source": [
    "plt.figure(figsize=(10,6))\n",
    "sns.countplot(x='Qty', data=df, palette='winter')\n",
    "plt.xlabel('Quantity', fontsize=12)\n",
    "plt.ylabel('Count', fontsize=12)\n",
    "plt.show()"
   ]
  },
  {
   "cell_type": "code",
   "execution_count": 13,
   "metadata": {
    "colab": {
     "base_uri": "https://localhost:8080/",
     "height": 450
    },
    "id": "G28vT4JHu9ga",
    "outputId": "78cdd8ab-a1f2-40da-c992-8c0fedc3bf1b"
   },
   "outputs": [
    {
     "data": {
      "text/html": [
       "<div>\n",
       "<style scoped>\n",
       "    .dataframe tbody tr th:only-of-type {\n",
       "        vertical-align: middle;\n",
       "    }\n",
       "\n",
       "    .dataframe tbody tr th {\n",
       "        vertical-align: top;\n",
       "    }\n",
       "\n",
       "    .dataframe thead th {\n",
       "        text-align: right;\n",
       "    }\n",
       "</style>\n",
       "<table border=\"1\" class=\"dataframe\">\n",
       "  <thead>\n",
       "    <tr style=\"text-align: right;\">\n",
       "      <th></th>\n",
       "      <th>Total Crop Count</th>\n",
       "      <th>Mean Crop Count</th>\n",
       "    </tr>\n",
       "    <tr>\n",
       "      <th>Crop ID</th>\n",
       "      <th></th>\n",
       "      <th></th>\n",
       "    </tr>\n",
       "  </thead>\n",
       "  <tbody>\n",
       "    <tr>\n",
       "      <th>2727</th>\n",
       "      <td>16</td>\n",
       "      <td>1.250000</td>\n",
       "    </tr>\n",
       "    <tr>\n",
       "      <th>2728</th>\n",
       "      <td>25</td>\n",
       "      <td>1.360000</td>\n",
       "    </tr>\n",
       "    <tr>\n",
       "      <th>2729</th>\n",
       "      <td>26</td>\n",
       "      <td>1.230769</td>\n",
       "    </tr>\n",
       "    <tr>\n",
       "      <th>2730</th>\n",
       "      <td>11</td>\n",
       "      <td>1.545455</td>\n",
       "    </tr>\n",
       "    <tr>\n",
       "      <th>2731</th>\n",
       "      <td>5</td>\n",
       "      <td>1.200000</td>\n",
       "    </tr>\n",
       "    <tr>\n",
       "      <th>...</th>\n",
       "      <td>...</td>\n",
       "      <td>...</td>\n",
       "    </tr>\n",
       "    <tr>\n",
       "      <th>3058</th>\n",
       "      <td>90</td>\n",
       "      <td>1.755556</td>\n",
       "    </tr>\n",
       "    <tr>\n",
       "      <th>3059</th>\n",
       "      <td>17</td>\n",
       "      <td>2.294118</td>\n",
       "    </tr>\n",
       "    <tr>\n",
       "      <th>3065</th>\n",
       "      <td>12</td>\n",
       "      <td>1.000000</td>\n",
       "    </tr>\n",
       "    <tr>\n",
       "      <th>3066</th>\n",
       "      <td>62</td>\n",
       "      <td>2.193548</td>\n",
       "    </tr>\n",
       "    <tr>\n",
       "      <th>3067</th>\n",
       "      <td>3</td>\n",
       "      <td>1.000000</td>\n",
       "    </tr>\n",
       "  </tbody>\n",
       "</table>\n",
       "<p>159 rows × 2 columns</p>\n",
       "</div>"
      ],
      "text/plain": [
       "         Total Crop Count  Mean Crop Count\n",
       "Crop ID                                   \n",
       "2727                   16         1.250000\n",
       "2728                   25         1.360000\n",
       "2729                   26         1.230769\n",
       "2730                   11         1.545455\n",
       "2731                    5         1.200000\n",
       "...                   ...              ...\n",
       "3058                   90         1.755556\n",
       "3059                   17         2.294118\n",
       "3065                   12         1.000000\n",
       "3066                   62         2.193548\n",
       "3067                    3         1.000000\n",
       "\n",
       "[159 rows x 2 columns]"
      ]
     },
     "execution_count": 13,
     "metadata": {
      "tags": []
     },
     "output_type": "execute_result"
    }
   ],
   "source": [
    "df1=pd.DataFrame({'Total Crop Count':df.groupby('Crop ID').count()['Qty'], 'Mean Crop Count':df.groupby('Crop ID').mean()['Qty']})\n",
    "df1"
   ]
  },
  {
   "cell_type": "code",
   "execution_count": 14,
   "metadata": {
    "colab": {
     "base_uri": "https://localhost:8080/",
     "height": 409
    },
    "id": "LJ6ks8myts7N",
    "outputId": "7065b5ee-562f-4651-f99e-344704e6a165"
   },
   "outputs": [
    {
     "data": {
      "image/png": "[encoded data removed]",
      "text/plain": [
       "<Figure size 1296x432 with 2 Axes>"
      ]
     },
     "metadata": {
      "needs_background": "light",
      "tags": []
     },
     "output_type": "display_data"
    }
   ],
   "source": [
    "plt.figure(figsize=(18,6))\n",
    "\n",
    "plt.subplot(1,2,1)\n",
    "plt.hist(x='Total Crop Count',data=df1,bins=30,color='teal')\n",
    "plt.title('Distribution of Total Count', fontsize=15)\n",
    "plt.xlabel('Total Crop Count', fontsize=12)\n",
    "plt.ylabel('Frequency', fontsize=12)\n",
    "\n",
    "plt.subplot(1,2,2)\n",
    "plt.hist(x='Mean Crop Count',data=df1,bins=30, color='slateblue')\n",
    "plt.title('Distribution of Mean Crop Count', fontsize=15)\n",
    "plt.xlabel('Mean Crop Count', fontsize=12)\n",
    "plt.yticks([])\n",
    "plt.show()"
   ]
  },
  {
   "cell_type": "markdown",
   "metadata": {
    "id": "dTJE1ELtBlEJ"
   },
   "source": [
    "# Recommender Systems:-"
   ]
  },
  {
   "cell_type": "markdown",
   "metadata": {
    "id": "AL-tTD4GBxlu"
   },
   "source": [
    "## **Popularity-Based Recommender System**"
   ]
  },
  {
   "cell_type": "markdown",
   "metadata": {
    "id": "XoMzsR9kC9MU"
   },
   "source": [
    "Weighted Rating (WR) =  (v/v+m)R+(m/v+m)C  \n",
    "\n",
    "v: total count of the product\n",
    "\n",
    "m: the minimum count considered to be in top recommendations\n",
    "\n",
    "R: the average count of the product\n",
    "\n",
    "C: the mean count across the whole data"
   ]
  },
  {
   "cell_type": "code",
   "execution_count": 96,
   "metadata": {
    "id": "16kLfRcbCFYf"
   },
   "outputs": [],
   "source": [
    "def product_score(x):\n",
    "    v=x['Total Crop Count']\n",
    "    m=df1['Total Crop Count'].quantile(q=0.9)\n",
    "    R=x['Mean Crop Count']\n",
    "    C=df1['Mean Crop Count'].mean()\n",
    "    return ((R*v)/(v+m))+((C*m)/(v+m))"
   ]
  },
  {
   "cell_type": "code",
   "execution_count": 102,
   "metadata": {
    "colab": {
     "base_uri": "https://localhost:8080/"
    },
    "id": "ZvOydYoafIXx",
    "outputId": "3192d263-9789-4e36-c27f-f17bb487104b"
   },
   "outputs": [
    {
     "data": {
      "text/plain": [
       "21.39622641509434"
      ]
     },
     "execution_count": 102,
     "metadata": {
      "tags": []
     },
     "output_type": "execute_result"
    }
   ],
   "source": [
    "m=df1['Total Crop Count'].mean()\n",
    "m"
   ]
  },
  {
   "cell_type": "code",
   "execution_count": 103,
   "metadata": {
    "colab": {
     "base_uri": "https://localhost:8080/",
     "height": 235
    },
    "id": "wRVPFTciEFU2",
    "outputId": "a927815e-4fbd-4bf2-da96-1017d366cb11"
   },
   "outputs": [
    {
     "data": {
      "text/html": [
       "<div>\n",
       "<style scoped>\n",
       "    .dataframe tbody tr th:only-of-type {\n",
       "        vertical-align: middle;\n",
       "    }\n",
       "\n",
       "    .dataframe tbody tr th {\n",
       "        vertical-align: top;\n",
       "    }\n",
       "\n",
       "    .dataframe thead th {\n",
       "        text-align: right;\n",
       "    }\n",
       "</style>\n",
       "<table border=\"1\" class=\"dataframe\">\n",
       "  <thead>\n",
       "    <tr style=\"text-align: right;\">\n",
       "      <th></th>\n",
       "      <th>Total Crop Count</th>\n",
       "      <th>Mean Crop Count</th>\n",
       "      <th>Score</th>\n",
       "    </tr>\n",
       "    <tr>\n",
       "      <th>Crop ID</th>\n",
       "      <th></th>\n",
       "      <th></th>\n",
       "      <th></th>\n",
       "    </tr>\n",
       "  </thead>\n",
       "  <tbody>\n",
       "    <tr>\n",
       "      <th>2727</th>\n",
       "      <td>16</td>\n",
       "      <td>1.250000</td>\n",
       "      <td>1.277535</td>\n",
       "    </tr>\n",
       "    <tr>\n",
       "      <th>2728</th>\n",
       "      <td>25</td>\n",
       "      <td>1.360000</td>\n",
       "      <td>1.317252</td>\n",
       "    </tr>\n",
       "    <tr>\n",
       "      <th>2729</th>\n",
       "      <td>26</td>\n",
       "      <td>1.230769</td>\n",
       "      <td>1.265420</td>\n",
       "    </tr>\n",
       "    <tr>\n",
       "      <th>2730</th>\n",
       "      <td>11</td>\n",
       "      <td>1.545455</td>\n",
       "      <td>1.346671</td>\n",
       "    </tr>\n",
       "    <tr>\n",
       "      <th>2731</th>\n",
       "      <td>5</td>\n",
       "      <td>1.200000</td>\n",
       "      <td>1.278765</td>\n",
       "    </tr>\n",
       "  </tbody>\n",
       "</table>\n",
       "</div>"
      ],
      "text/plain": [
       "         Total Crop Count  Mean Crop Count     Score\n",
       "Crop ID                                             \n",
       "2727                   16         1.250000  1.277535\n",
       "2728                   25         1.360000  1.317252\n",
       "2729                   26         1.230769  1.265420\n",
       "2730                   11         1.545455  1.346671\n",
       "2731                    5         1.200000  1.278765"
      ]
     },
     "execution_count": 103,
     "metadata": {
      "tags": []
     },
     "output_type": "execute_result"
    }
   ],
   "source": [
    "df1['Score']=df1.apply(product_score, axis=1)\n",
    "df1.head()"
   ]
  },
  {
   "cell_type": "code",
   "execution_count": 104,
   "metadata": {
    "colab": {
     "base_uri": "https://localhost:8080/",
     "height": 235
    },
    "id": "4iBd0_ZsJ6SE",
    "outputId": "2c836a34-9887-4bd3-f1f5-7bfacae048b4"
   },
   "outputs": [
    {
     "data": {
      "text/html": [
       "<div>\n",
       "<style scoped>\n",
       "    .dataframe tbody tr th:only-of-type {\n",
       "        vertical-align: middle;\n",
       "    }\n",
       "\n",
       "    .dataframe tbody tr th {\n",
       "        vertical-align: top;\n",
       "    }\n",
       "\n",
       "    .dataframe thead th {\n",
       "        text-align: right;\n",
       "    }\n",
       "</style>\n",
       "<table border=\"1\" class=\"dataframe\">\n",
       "  <thead>\n",
       "    <tr style=\"text-align: right;\">\n",
       "      <th></th>\n",
       "      <th>Total Crop Count</th>\n",
       "      <th>Mean Crop Count</th>\n",
       "      <th>Score</th>\n",
       "    </tr>\n",
       "    <tr>\n",
       "      <th>Crop ID</th>\n",
       "      <th></th>\n",
       "      <th></th>\n",
       "      <th></th>\n",
       "    </tr>\n",
       "  </thead>\n",
       "  <tbody>\n",
       "    <tr>\n",
       "      <th>3066</th>\n",
       "      <td>62</td>\n",
       "      <td>2.193548</td>\n",
       "      <td>1.849869</td>\n",
       "    </tr>\n",
       "    <tr>\n",
       "      <th>2897</th>\n",
       "      <td>33</td>\n",
       "      <td>2.393939</td>\n",
       "      <td>1.802632</td>\n",
       "    </tr>\n",
       "    <tr>\n",
       "      <th>3031</th>\n",
       "      <td>170</td>\n",
       "      <td>1.870588</td>\n",
       "      <td>1.764360</td>\n",
       "    </tr>\n",
       "    <tr>\n",
       "      <th>2984</th>\n",
       "      <td>52</td>\n",
       "      <td>1.980769</td>\n",
       "      <td>1.688743</td>\n",
       "    </tr>\n",
       "    <tr>\n",
       "      <th>2990</th>\n",
       "      <td>7</td>\n",
       "      <td>3.571429</td>\n",
       "      <td>1.644153</td>\n",
       "    </tr>\n",
       "  </tbody>\n",
       "</table>\n",
       "</div>"
      ],
      "text/plain": [
       "         Total Crop Count  Mean Crop Count     Score\n",
       "Crop ID                                             \n",
       "3066                   62         2.193548  1.849869\n",
       "2897                   33         2.393939  1.802632\n",
       "3031                  170         1.870588  1.764360\n",
       "2984                   52         1.980769  1.688743\n",
       "2990                    7         3.571429  1.644153"
      ]
     },
     "execution_count": 104,
     "metadata": {
      "tags": []
     },
     "output_type": "execute_result"
    }
   ],
   "source": [
    "df_highscore=df1.sort_values(by='Score', ascending=False).head(20)\n",
    "df_highscore.head()"
   ]
  },
  {
   "cell_type": "markdown",
   "metadata": {
    "id": "cHbuwo41W11K"
   },
   "source": [
    "*RESULT*"
   ]
  },
  {
   "cell_type": "code",
   "execution_count": 18,
   "metadata": {
    "colab": {
     "base_uri": "https://localhost:8080/"
    },
    "id": "I5OcfDzNR7xu",
    "outputId": "4262b886-08ab-45db-d89d-f494df06d0d5"
   },
   "outputs": [
    {
     "data": {
      "text/plain": [
       "Int64Index([3066, 2897, 3031, 2984, 2990, 2818, 2843, 3058, 3059, 2920, 2822,\n",
       "            2870, 2898, 2782, 2744, 2825, 2884, 2820, 2942, 2821],\n",
       "           dtype='int64', name='Crop ID')"
      ]
     },
     "execution_count": 18,
     "metadata": {
      "tags": []
     },
     "output_type": "execute_result"
    }
   ],
   "source": [
    "df_highscore.index"
   ]
  },
  {
   "cell_type": "code",
   "execution_count": 58,
   "metadata": {
    "colab": {
     "base_uri": "https://localhost:8080/",
     "height": 367
    },
    "id": "JoKiBayDLNQp",
    "outputId": "44faaa4d-72c5-42ae-dcd3-079c345babd0"
   },
   "outputs": [
    {
     "data": {
      "text/plain": [
       "<matplotlib.axes._subplots.AxesSubplot at 0x7f55846a27d0>"
      ]
     },
     "execution_count": 58,
     "metadata": {
      "tags": []
     },
     "output_type": "execute_result"
    },
    {
     "data": {
      "image/png": "[encoded data removed]",
      "text/plain": [
       "<Figure size 720x360 with 1 Axes>"
      ]
     },
     "metadata": {
      "needs_background": "light",
      "tags": []
     },
     "output_type": "display_data"
    }
   ],
   "source": [
    "#Top 30 Product that would be recommended.\n",
    "df_highscore['Score'].plot(kind='bar', figsize =(10,5))"
   ]
  },
  {
   "cell_type": "markdown",
   "metadata": {
    "id": "rsI1-SnwVlX6"
   },
   "source": [
    "**This recommendation will be same for all the buyers!**     \n",
    "\n",
    "We should keep in mind that this popularity-based recommender provides a general chart of recommended crops to all the buyers, regardless of the buyer's personal taste. It is not sensitive to the seasonality interests of a particular buyer, and it does not give personalized recommendations based on the buyers."
   ]
  },
  {
   "cell_type": "markdown",
   "metadata": {
    "id": "inkjHcNYW-eP"
   },
   "source": [
    "## **Collaborative Recommender System**"
   ]
  },
  {
   "cell_type": "markdown",
   "metadata": {
    "id": "vmmfVIKMXoR2"
   },
   "source": [
    "Collaborative Filtering matches persons with similar interests and provides recommendations based on this matching. It is based on the idea that users similar to me can be used to predict how much I will like a particular product or service those users have used/experienced but I have not.\n",
    "\n",
    "Surprise library is a Python scikit for building and analyzing recommender systems that deal with explicit rating data. Here we use the Surprise library that uses extremely powerful algorithms like Singular Value Decomposition (SVD) to minimise Root Mean Square Error (RMSE) that is measured by Kfold Cross Validation and give great recommendations."
   ]
  },
  {
   "cell_type": "markdown",
   "metadata": {
    "id": "w0aC94BVXxIX"
   },
   "source": [
    "#### SVD: Matrix Factorization Based Algorithm"
   ]
  },
  {
   "cell_type": "code",
   "execution_count": 19,
   "metadata": {
    "id": "UmQuhfeKWz0H"
   },
   "outputs": [],
   "source": [
    "svd = SVD()"
   ]
  },
  {
   "cell_type": "code",
   "execution_count": 20,
   "metadata": {
    "id": "opB0Vmu_YRLq"
   },
   "outputs": [],
   "source": [
    "reader = Reader()"
   ]
  },
  {
   "cell_type": "code",
   "execution_count": 21,
   "metadata": {
    "id": "39dDt0VmYTQQ"
   },
   "outputs": [],
   "source": [
    "data = Dataset.load_from_df(df[['Buyer ID', 'Crop ID', 'Qty']], reader)"
   ]
  },
  {
   "cell_type": "code",
   "execution_count": 22,
   "metadata": {
    "colab": {
     "base_uri": "https://localhost:8080/"
    },
    "id": "5CXU6ozoYiA8",
    "outputId": "dec76b32-df23-4362-97ab-40b479033813"
   },
   "outputs": [
    {
     "name": "stdout",
     "output_type": "stream",
     "text": [
      "Evaluating RMSE, MAE of algorithm SVD on 5 split(s).\n",
      "\n",
      "                  Fold 1  Fold 2  Fold 3  Fold 4  Fold 5  Mean    Std     \n",
      "RMSE (testset)    0.8079  1.2606  1.2197  1.2929  0.9382  1.1038  0.1943  \n",
      "MAE (testset)     0.4055  0.4346  0.4921  0.4584  0.4044  0.4390  0.0333  \n",
      "Fit time          0.17    0.15    0.16    0.15    0.15    0.15    0.01    \n",
      "Test time         0.01    0.01    0.01    0.01    0.01    0.01    0.00    \n"
     ]
    },
    {
     "data": {
      "text/plain": [
       "{'fit_time': (0.16558241844177246,\n",
       "  0.14635848999023438,\n",
       "  0.15942740440368652,\n",
       "  0.15235447883605957,\n",
       "  0.14974188804626465),\n",
       " 'test_mae': array([0.40550031, 0.4345709 , 0.49210137, 0.45838493, 0.40437916]),\n",
       " 'test_rmse': array([0.80787747, 1.2605859 , 1.21974744, 1.29287033, 0.93815539]),\n",
       " 'test_time': (0.005652427673339844,\n",
       "  0.012750625610351562,\n",
       "  0.005834817886352539,\n",
       "  0.005540132522583008,\n",
       "  0.005457162857055664)}"
      ]
     },
     "execution_count": 22,
     "metadata": {
      "tags": []
     },
     "output_type": "execute_result"
    }
   ],
   "source": [
    "cross_validate(svd, data, measures=['RMSE', 'MAE'], cv=5, verbose=True)"
   ]
  },
  {
   "cell_type": "code",
   "execution_count": 23,
   "metadata": {
    "id": "PlLerFfjZgRZ"
   },
   "outputs": [],
   "source": [
    "trainset = data.build_full_trainset()"
   ]
  },
  {
   "cell_type": "code",
   "execution_count": 24,
   "metadata": {
    "colab": {
     "base_uri": "https://localhost:8080/"
    },
    "id": "W6S6dX6NaAi_",
    "outputId": "d2e3ea4e-4dee-4048-e711-16c4f5a69c5a"
   },
   "outputs": [
    {
     "data": {
      "text/plain": [
       "<surprise.prediction_algorithms.matrix_factorization.SVD at 0x7f559775b510>"
      ]
     },
     "execution_count": 24,
     "metadata": {
      "tags": []
     },
     "output_type": "execute_result"
    }
   ],
   "source": [
    "svd.fit(trainset)"
   ]
  },
  {
   "cell_type": "code",
   "execution_count": 25,
   "metadata": {
    "colab": {
     "base_uri": "https://localhost:8080/"
    },
    "id": "tcG8u8A1aD0w",
    "outputId": "63c07b9c-090a-40a0-a574-55cd4f3dabe8"
   },
   "outputs": [
    {
     "data": {
      "text/plain": [
       "1.3906525573192239"
      ]
     },
     "execution_count": 25,
     "metadata": {
      "tags": []
     },
     "output_type": "execute_result"
    }
   ],
   "source": [
    "svd.predict(uid='291', iid='2856', r_ui=None).est"
   ]
  },
  {
   "cell_type": "markdown",
   "metadata": {
    "id": "RxxoF3b2c1Gu"
   },
   "source": [
    "Our model predicts that Buyer ID of '291' will buy 1.39 quantity for productId of '2856'."
   ]
  },
  {
   "cell_type": "markdown",
   "metadata": {
    "id": "8pW7tE4PdIqH"
   },
   "source": [
    "Cross-checking it for a prticular buyer from original dataset --"
   ]
  },
  {
   "cell_type": "code",
   "execution_count": 94,
   "metadata": {
    "id": "E7kvVlzYacjJ"
   },
   "outputs": [],
   "source": [
    "#df.loc[df['Crop ID']==3067]\n",
    "#df.loc[df['Buyer ID']==0]"
   ]
  },
  {
   "cell_type": "markdown",
   "metadata": {
    "id": "dSrYwdt8eTsK"
   },
   "source": [
    "## **Model-based Collaborative Filtering (user-item interaction)**"
   ]
  },
  {
   "cell_type": "markdown",
   "metadata": {
    "id": "biuqywh_eirc"
   },
   "source": [
    "These methods are based on machine learning and data mining techniques. The goal is to train models to be able to make predictions. For example, we could use existing user-item interactions to train a model to predict the top most items that a user might like the most. One advantage of these methods is that they are able to recommend a larger number of items to a larger number of users, compared to other methods like memory based approach. They have large coverage, even when working with large sparse matrices."
   ]
  },
  {
   "cell_type": "code",
   "execution_count": 105,
   "metadata": {
    "colab": {
     "base_uri": "https://localhost:8080/",
     "height": 318
    },
    "id": "QQ_aWj5ib_6h",
    "outputId": "6547446a-251f-4ec8-c971-653f15854751"
   },
   "outputs": [
    {
     "data": {
      "text/html": [
       "<div>\n",
       "<style scoped>\n",
       "    .dataframe tbody tr th:only-of-type {\n",
       "        vertical-align: middle;\n",
       "    }\n",
       "\n",
       "    .dataframe tbody tr th {\n",
       "        vertical-align: top;\n",
       "    }\n",
       "\n",
       "    .dataframe thead th {\n",
       "        text-align: right;\n",
       "    }\n",
       "</style>\n",
       "<table border=\"1\" class=\"dataframe\">\n",
       "  <thead>\n",
       "    <tr style=\"text-align: right;\">\n",
       "      <th>Crop ID</th>\n",
       "      <th>2727</th>\n",
       "      <th>2728</th>\n",
       "      <th>2729</th>\n",
       "      <th>2730</th>\n",
       "      <th>2731</th>\n",
       "      <th>2732</th>\n",
       "      <th>2733</th>\n",
       "      <th>2734</th>\n",
       "      <th>2736</th>\n",
       "      <th>2737</th>\n",
       "      <th>2738</th>\n",
       "      <th>2739</th>\n",
       "      <th>2740</th>\n",
       "      <th>2741</th>\n",
       "      <th>2742</th>\n",
       "      <th>2743</th>\n",
       "      <th>2744</th>\n",
       "      <th>2745</th>\n",
       "      <th>2746</th>\n",
       "      <th>2747</th>\n",
       "      <th>2748</th>\n",
       "      <th>2751</th>\n",
       "      <th>2754</th>\n",
       "      <th>2756</th>\n",
       "      <th>2757</th>\n",
       "      <th>2758</th>\n",
       "      <th>2759</th>\n",
       "      <th>2760</th>\n",
       "      <th>2761</th>\n",
       "      <th>2762</th>\n",
       "      <th>2763</th>\n",
       "      <th>2764</th>\n",
       "      <th>2765</th>\n",
       "      <th>2768</th>\n",
       "      <th>2769</th>\n",
       "      <th>2770</th>\n",
       "      <th>2773</th>\n",
       "      <th>2774</th>\n",
       "      <th>2775</th>\n",
       "      <th>2776</th>\n",
       "      <th>...</th>\n",
       "      <th>2898</th>\n",
       "      <th>2899</th>\n",
       "      <th>2900</th>\n",
       "      <th>2901</th>\n",
       "      <th>2902</th>\n",
       "      <th>2903</th>\n",
       "      <th>2909</th>\n",
       "      <th>2910</th>\n",
       "      <th>2916</th>\n",
       "      <th>2918</th>\n",
       "      <th>2920</th>\n",
       "      <th>2921</th>\n",
       "      <th>2931</th>\n",
       "      <th>2932</th>\n",
       "      <th>2933</th>\n",
       "      <th>2942</th>\n",
       "      <th>2943</th>\n",
       "      <th>2955</th>\n",
       "      <th>2963</th>\n",
       "      <th>2983</th>\n",
       "      <th>2984</th>\n",
       "      <th>2989</th>\n",
       "      <th>2990</th>\n",
       "      <th>2991</th>\n",
       "      <th>2998</th>\n",
       "      <th>2999</th>\n",
       "      <th>3010</th>\n",
       "      <th>3023</th>\n",
       "      <th>3031</th>\n",
       "      <th>3035</th>\n",
       "      <th>3036</th>\n",
       "      <th>3037</th>\n",
       "      <th>3046</th>\n",
       "      <th>3047</th>\n",
       "      <th>3048</th>\n",
       "      <th>3058</th>\n",
       "      <th>3059</th>\n",
       "      <th>3065</th>\n",
       "      <th>3066</th>\n",
       "      <th>3067</th>\n",
       "    </tr>\n",
       "    <tr>\n",
       "      <th>Buyer ID</th>\n",
       "      <th></th>\n",
       "      <th></th>\n",
       "      <th></th>\n",
       "      <th></th>\n",
       "      <th></th>\n",
       "      <th></th>\n",
       "      <th></th>\n",
       "      <th></th>\n",
       "      <th></th>\n",
       "      <th></th>\n",
       "      <th></th>\n",
       "      <th></th>\n",
       "      <th></th>\n",
       "      <th></th>\n",
       "      <th></th>\n",
       "      <th></th>\n",
       "      <th></th>\n",
       "      <th></th>\n",
       "      <th></th>\n",
       "      <th></th>\n",
       "      <th></th>\n",
       "      <th></th>\n",
       "      <th></th>\n",
       "      <th></th>\n",
       "      <th></th>\n",
       "      <th></th>\n",
       "      <th></th>\n",
       "      <th></th>\n",
       "      <th></th>\n",
       "      <th></th>\n",
       "      <th></th>\n",
       "      <th></th>\n",
       "      <th></th>\n",
       "      <th></th>\n",
       "      <th></th>\n",
       "      <th></th>\n",
       "      <th></th>\n",
       "      <th></th>\n",
       "      <th></th>\n",
       "      <th></th>\n",
       "      <th></th>\n",
       "      <th></th>\n",
       "      <th></th>\n",
       "      <th></th>\n",
       "      <th></th>\n",
       "      <th></th>\n",
       "      <th></th>\n",
       "      <th></th>\n",
       "      <th></th>\n",
       "      <th></th>\n",
       "      <th></th>\n",
       "      <th></th>\n",
       "      <th></th>\n",
       "      <th></th>\n",
       "      <th></th>\n",
       "      <th></th>\n",
       "      <th></th>\n",
       "      <th></th>\n",
       "      <th></th>\n",
       "      <th></th>\n",
       "      <th></th>\n",
       "      <th></th>\n",
       "      <th></th>\n",
       "      <th></th>\n",
       "      <th></th>\n",
       "      <th></th>\n",
       "      <th></th>\n",
       "      <th></th>\n",
       "      <th></th>\n",
       "      <th></th>\n",
       "      <th></th>\n",
       "      <th></th>\n",
       "      <th></th>\n",
       "      <th></th>\n",
       "      <th></th>\n",
       "      <th></th>\n",
       "      <th></th>\n",
       "      <th></th>\n",
       "      <th></th>\n",
       "      <th></th>\n",
       "      <th></th>\n",
       "    </tr>\n",
       "  </thead>\n",
       "  <tbody>\n",
       "    <tr>\n",
       "      <th>0</th>\n",
       "      <td>0</td>\n",
       "      <td>0</td>\n",
       "      <td>0</td>\n",
       "      <td>0</td>\n",
       "      <td>0</td>\n",
       "      <td>0.0</td>\n",
       "      <td>0</td>\n",
       "      <td>0</td>\n",
       "      <td>0</td>\n",
       "      <td>0</td>\n",
       "      <td>0.0</td>\n",
       "      <td>0</td>\n",
       "      <td>0</td>\n",
       "      <td>0.0</td>\n",
       "      <td>0</td>\n",
       "      <td>0</td>\n",
       "      <td>0</td>\n",
       "      <td>0</td>\n",
       "      <td>0</td>\n",
       "      <td>0.0</td>\n",
       "      <td>0</td>\n",
       "      <td>0</td>\n",
       "      <td>0</td>\n",
       "      <td>0</td>\n",
       "      <td>0.0</td>\n",
       "      <td>0</td>\n",
       "      <td>0</td>\n",
       "      <td>0</td>\n",
       "      <td>0</td>\n",
       "      <td>0</td>\n",
       "      <td>0</td>\n",
       "      <td>0</td>\n",
       "      <td>0</td>\n",
       "      <td>0</td>\n",
       "      <td>0</td>\n",
       "      <td>0</td>\n",
       "      <td>0</td>\n",
       "      <td>0</td>\n",
       "      <td>0</td>\n",
       "      <td>0</td>\n",
       "      <td>...</td>\n",
       "      <td>0</td>\n",
       "      <td>0</td>\n",
       "      <td>0</td>\n",
       "      <td>0</td>\n",
       "      <td>0</td>\n",
       "      <td>0.0</td>\n",
       "      <td>0</td>\n",
       "      <td>0</td>\n",
       "      <td>0</td>\n",
       "      <td>0</td>\n",
       "      <td>0</td>\n",
       "      <td>0</td>\n",
       "      <td>0</td>\n",
       "      <td>0.0</td>\n",
       "      <td>0</td>\n",
       "      <td>0</td>\n",
       "      <td>0</td>\n",
       "      <td>0</td>\n",
       "      <td>0.0</td>\n",
       "      <td>0.0</td>\n",
       "      <td>0.0</td>\n",
       "      <td>0</td>\n",
       "      <td>0</td>\n",
       "      <td>0.0</td>\n",
       "      <td>0</td>\n",
       "      <td>0</td>\n",
       "      <td>0.0</td>\n",
       "      <td>0.0</td>\n",
       "      <td>0.0</td>\n",
       "      <td>0</td>\n",
       "      <td>0.0</td>\n",
       "      <td>0</td>\n",
       "      <td>0.0</td>\n",
       "      <td>1</td>\n",
       "      <td>0</td>\n",
       "      <td>0.0</td>\n",
       "      <td>0</td>\n",
       "      <td>0</td>\n",
       "      <td>0</td>\n",
       "      <td>0</td>\n",
       "    </tr>\n",
       "    <tr>\n",
       "      <th>1</th>\n",
       "      <td>0</td>\n",
       "      <td>0</td>\n",
       "      <td>0</td>\n",
       "      <td>0</td>\n",
       "      <td>0</td>\n",
       "      <td>0.0</td>\n",
       "      <td>0</td>\n",
       "      <td>0</td>\n",
       "      <td>0</td>\n",
       "      <td>0</td>\n",
       "      <td>0.0</td>\n",
       "      <td>0</td>\n",
       "      <td>0</td>\n",
       "      <td>0.0</td>\n",
       "      <td>0</td>\n",
       "      <td>0</td>\n",
       "      <td>0</td>\n",
       "      <td>0</td>\n",
       "      <td>0</td>\n",
       "      <td>0.0</td>\n",
       "      <td>0</td>\n",
       "      <td>0</td>\n",
       "      <td>0</td>\n",
       "      <td>0</td>\n",
       "      <td>0.0</td>\n",
       "      <td>0</td>\n",
       "      <td>0</td>\n",
       "      <td>0</td>\n",
       "      <td>0</td>\n",
       "      <td>0</td>\n",
       "      <td>0</td>\n",
       "      <td>0</td>\n",
       "      <td>0</td>\n",
       "      <td>0</td>\n",
       "      <td>0</td>\n",
       "      <td>0</td>\n",
       "      <td>0</td>\n",
       "      <td>0</td>\n",
       "      <td>0</td>\n",
       "      <td>0</td>\n",
       "      <td>...</td>\n",
       "      <td>0</td>\n",
       "      <td>0</td>\n",
       "      <td>0</td>\n",
       "      <td>0</td>\n",
       "      <td>0</td>\n",
       "      <td>0.0</td>\n",
       "      <td>0</td>\n",
       "      <td>0</td>\n",
       "      <td>0</td>\n",
       "      <td>0</td>\n",
       "      <td>0</td>\n",
       "      <td>0</td>\n",
       "      <td>0</td>\n",
       "      <td>0.0</td>\n",
       "      <td>0</td>\n",
       "      <td>0</td>\n",
       "      <td>0</td>\n",
       "      <td>0</td>\n",
       "      <td>0.0</td>\n",
       "      <td>0.0</td>\n",
       "      <td>0.0</td>\n",
       "      <td>0</td>\n",
       "      <td>0</td>\n",
       "      <td>0.0</td>\n",
       "      <td>0</td>\n",
       "      <td>0</td>\n",
       "      <td>0.0</td>\n",
       "      <td>0.0</td>\n",
       "      <td>0.0</td>\n",
       "      <td>0</td>\n",
       "      <td>1.0</td>\n",
       "      <td>0</td>\n",
       "      <td>0.0</td>\n",
       "      <td>0</td>\n",
       "      <td>0</td>\n",
       "      <td>0.0</td>\n",
       "      <td>0</td>\n",
       "      <td>0</td>\n",
       "      <td>0</td>\n",
       "      <td>0</td>\n",
       "    </tr>\n",
       "    <tr>\n",
       "      <th>2</th>\n",
       "      <td>0</td>\n",
       "      <td>0</td>\n",
       "      <td>0</td>\n",
       "      <td>0</td>\n",
       "      <td>0</td>\n",
       "      <td>0.0</td>\n",
       "      <td>0</td>\n",
       "      <td>0</td>\n",
       "      <td>0</td>\n",
       "      <td>0</td>\n",
       "      <td>0.0</td>\n",
       "      <td>0</td>\n",
       "      <td>0</td>\n",
       "      <td>0.0</td>\n",
       "      <td>0</td>\n",
       "      <td>0</td>\n",
       "      <td>0</td>\n",
       "      <td>0</td>\n",
       "      <td>0</td>\n",
       "      <td>0.0</td>\n",
       "      <td>0</td>\n",
       "      <td>0</td>\n",
       "      <td>0</td>\n",
       "      <td>0</td>\n",
       "      <td>0.0</td>\n",
       "      <td>0</td>\n",
       "      <td>0</td>\n",
       "      <td>0</td>\n",
       "      <td>0</td>\n",
       "      <td>0</td>\n",
       "      <td>0</td>\n",
       "      <td>0</td>\n",
       "      <td>0</td>\n",
       "      <td>0</td>\n",
       "      <td>0</td>\n",
       "      <td>0</td>\n",
       "      <td>0</td>\n",
       "      <td>0</td>\n",
       "      <td>0</td>\n",
       "      <td>0</td>\n",
       "      <td>...</td>\n",
       "      <td>0</td>\n",
       "      <td>0</td>\n",
       "      <td>0</td>\n",
       "      <td>0</td>\n",
       "      <td>0</td>\n",
       "      <td>0.0</td>\n",
       "      <td>0</td>\n",
       "      <td>0</td>\n",
       "      <td>0</td>\n",
       "      <td>0</td>\n",
       "      <td>0</td>\n",
       "      <td>0</td>\n",
       "      <td>0</td>\n",
       "      <td>0.0</td>\n",
       "      <td>0</td>\n",
       "      <td>0</td>\n",
       "      <td>0</td>\n",
       "      <td>0</td>\n",
       "      <td>0.0</td>\n",
       "      <td>0.0</td>\n",
       "      <td>0.0</td>\n",
       "      <td>0</td>\n",
       "      <td>0</td>\n",
       "      <td>0.0</td>\n",
       "      <td>0</td>\n",
       "      <td>0</td>\n",
       "      <td>0.0</td>\n",
       "      <td>0.0</td>\n",
       "      <td>0.0</td>\n",
       "      <td>0</td>\n",
       "      <td>0.0</td>\n",
       "      <td>0</td>\n",
       "      <td>0.0</td>\n",
       "      <td>0</td>\n",
       "      <td>0</td>\n",
       "      <td>0.0</td>\n",
       "      <td>0</td>\n",
       "      <td>0</td>\n",
       "      <td>5</td>\n",
       "      <td>0</td>\n",
       "    </tr>\n",
       "    <tr>\n",
       "      <th>3</th>\n",
       "      <td>0</td>\n",
       "      <td>0</td>\n",
       "      <td>0</td>\n",
       "      <td>0</td>\n",
       "      <td>0</td>\n",
       "      <td>0.0</td>\n",
       "      <td>0</td>\n",
       "      <td>0</td>\n",
       "      <td>0</td>\n",
       "      <td>0</td>\n",
       "      <td>0.0</td>\n",
       "      <td>0</td>\n",
       "      <td>0</td>\n",
       "      <td>0.0</td>\n",
       "      <td>0</td>\n",
       "      <td>0</td>\n",
       "      <td>0</td>\n",
       "      <td>0</td>\n",
       "      <td>0</td>\n",
       "      <td>0.0</td>\n",
       "      <td>0</td>\n",
       "      <td>0</td>\n",
       "      <td>0</td>\n",
       "      <td>0</td>\n",
       "      <td>0.0</td>\n",
       "      <td>0</td>\n",
       "      <td>0</td>\n",
       "      <td>0</td>\n",
       "      <td>0</td>\n",
       "      <td>0</td>\n",
       "      <td>0</td>\n",
       "      <td>0</td>\n",
       "      <td>0</td>\n",
       "      <td>0</td>\n",
       "      <td>0</td>\n",
       "      <td>0</td>\n",
       "      <td>0</td>\n",
       "      <td>0</td>\n",
       "      <td>0</td>\n",
       "      <td>0</td>\n",
       "      <td>...</td>\n",
       "      <td>0</td>\n",
       "      <td>0</td>\n",
       "      <td>0</td>\n",
       "      <td>0</td>\n",
       "      <td>0</td>\n",
       "      <td>0.0</td>\n",
       "      <td>0</td>\n",
       "      <td>0</td>\n",
       "      <td>0</td>\n",
       "      <td>0</td>\n",
       "      <td>0</td>\n",
       "      <td>0</td>\n",
       "      <td>0</td>\n",
       "      <td>0.0</td>\n",
       "      <td>0</td>\n",
       "      <td>0</td>\n",
       "      <td>0</td>\n",
       "      <td>0</td>\n",
       "      <td>0.0</td>\n",
       "      <td>0.0</td>\n",
       "      <td>0.0</td>\n",
       "      <td>0</td>\n",
       "      <td>0</td>\n",
       "      <td>0.0</td>\n",
       "      <td>0</td>\n",
       "      <td>0</td>\n",
       "      <td>0.0</td>\n",
       "      <td>0.0</td>\n",
       "      <td>0.0</td>\n",
       "      <td>0</td>\n",
       "      <td>0.0</td>\n",
       "      <td>0</td>\n",
       "      <td>0.0</td>\n",
       "      <td>0</td>\n",
       "      <td>0</td>\n",
       "      <td>0.0</td>\n",
       "      <td>0</td>\n",
       "      <td>0</td>\n",
       "      <td>0</td>\n",
       "      <td>0</td>\n",
       "    </tr>\n",
       "    <tr>\n",
       "      <th>4</th>\n",
       "      <td>0</td>\n",
       "      <td>0</td>\n",
       "      <td>0</td>\n",
       "      <td>0</td>\n",
       "      <td>0</td>\n",
       "      <td>0.0</td>\n",
       "      <td>0</td>\n",
       "      <td>0</td>\n",
       "      <td>0</td>\n",
       "      <td>0</td>\n",
       "      <td>0.0</td>\n",
       "      <td>0</td>\n",
       "      <td>0</td>\n",
       "      <td>0.0</td>\n",
       "      <td>0</td>\n",
       "      <td>0</td>\n",
       "      <td>0</td>\n",
       "      <td>0</td>\n",
       "      <td>0</td>\n",
       "      <td>0.0</td>\n",
       "      <td>0</td>\n",
       "      <td>0</td>\n",
       "      <td>0</td>\n",
       "      <td>0</td>\n",
       "      <td>0.0</td>\n",
       "      <td>0</td>\n",
       "      <td>0</td>\n",
       "      <td>0</td>\n",
       "      <td>0</td>\n",
       "      <td>0</td>\n",
       "      <td>0</td>\n",
       "      <td>0</td>\n",
       "      <td>0</td>\n",
       "      <td>0</td>\n",
       "      <td>0</td>\n",
       "      <td>0</td>\n",
       "      <td>0</td>\n",
       "      <td>0</td>\n",
       "      <td>0</td>\n",
       "      <td>0</td>\n",
       "      <td>...</td>\n",
       "      <td>0</td>\n",
       "      <td>0</td>\n",
       "      <td>0</td>\n",
       "      <td>0</td>\n",
       "      <td>0</td>\n",
       "      <td>0.0</td>\n",
       "      <td>0</td>\n",
       "      <td>0</td>\n",
       "      <td>0</td>\n",
       "      <td>0</td>\n",
       "      <td>0</td>\n",
       "      <td>0</td>\n",
       "      <td>0</td>\n",
       "      <td>0.0</td>\n",
       "      <td>0</td>\n",
       "      <td>0</td>\n",
       "      <td>0</td>\n",
       "      <td>0</td>\n",
       "      <td>0.0</td>\n",
       "      <td>0.0</td>\n",
       "      <td>0.0</td>\n",
       "      <td>0</td>\n",
       "      <td>0</td>\n",
       "      <td>0.0</td>\n",
       "      <td>0</td>\n",
       "      <td>0</td>\n",
       "      <td>0.0</td>\n",
       "      <td>0.0</td>\n",
       "      <td>0.0</td>\n",
       "      <td>0</td>\n",
       "      <td>0.0</td>\n",
       "      <td>0</td>\n",
       "      <td>0.0</td>\n",
       "      <td>3</td>\n",
       "      <td>0</td>\n",
       "      <td>0.0</td>\n",
       "      <td>0</td>\n",
       "      <td>0</td>\n",
       "      <td>0</td>\n",
       "      <td>0</td>\n",
       "    </tr>\n",
       "  </tbody>\n",
       "</table>\n",
       "<p>5 rows × 159 columns</p>\n",
       "</div>"
      ],
      "text/plain": [
       "Crop ID   2727  2728  2729  2730  2731  ...  3058  3059  3065  3066  3067\n",
       "Buyer ID                                ...                              \n",
       "0            0     0     0     0     0  ...   0.0     0     0     0     0\n",
       "1            0     0     0     0     0  ...   0.0     0     0     0     0\n",
       "2            0     0     0     0     0  ...   0.0     0     0     5     0\n",
       "3            0     0     0     0     0  ...   0.0     0     0     0     0\n",
       "4            0     0     0     0     0  ...   0.0     0     0     0     0\n",
       "\n",
       "[5 rows x 159 columns]"
      ]
     },
     "execution_count": 105,
     "metadata": {
      "tags": []
     },
     "output_type": "execute_result"
    }
   ],
   "source": [
    "new_df1=df\n",
    "ratings_matrix = new_df1.pivot_table(values='Qty', index='Buyer ID', columns='Crop ID', fill_value=0)\n",
    "ratings_matrix.head()"
   ]
  },
  {
   "cell_type": "code",
   "execution_count": 108,
   "metadata": {
    "colab": {
     "base_uri": "https://localhost:8080/"
    },
    "id": "ak8O1fPei-NB",
    "outputId": "f968020b-cfc7-4fa2-ff47-729d22b5c602"
   },
   "outputs": [
    {
     "data": {
      "text/plain": [
       "(652, 159)"
      ]
     },
     "execution_count": 108,
     "metadata": {
      "tags": []
     },
     "output_type": "execute_result"
    }
   ],
   "source": [
    "ratings_matrix.shape"
   ]
  },
  {
   "cell_type": "code",
   "execution_count": 59,
   "metadata": {
    "id": "V57YT5zLsQ74"
   },
   "outputs": [],
   "source": [
    "X = ratings_matrix.T"
   ]
  },
  {
   "cell_type": "code",
   "execution_count": 32,
   "metadata": {
    "id": "EtHbwdPasWv7"
   },
   "outputs": [],
   "source": [
    "X1 = X"
   ]
  },
  {
   "cell_type": "code",
   "execution_count": 33,
   "metadata": {
    "colab": {
     "base_uri": "https://localhost:8080/"
    },
    "id": "UULZ8v3fsXNl",
    "outputId": "c595252b-7b29-4a9d-d902-32ecdd99a090"
   },
   "outputs": [
    {
     "data": {
      "text/plain": [
       "(159, 10)"
      ]
     },
     "execution_count": 33,
     "metadata": {
      "tags": []
     },
     "output_type": "execute_result"
    }
   ],
   "source": [
    "#Decomposing the Matrix\n",
    "from sklearn.decomposition import TruncatedSVD\n",
    "SVD = TruncatedSVD(n_components=10)\n",
    "decomposed_matrix = SVD.fit_transform(X)\n",
    "decomposed_matrix.shape"
   ]
  },
  {
   "cell_type": "code",
   "execution_count": 34,
   "metadata": {
    "colab": {
     "base_uri": "https://localhost:8080/"
    },
    "id": "xok4yztRsdQ-",
    "outputId": "f184d442-b9fc-40cc-fa19-67f9052d5c20"
   },
   "outputs": [
    {
     "data": {
      "text/plain": [
       "(159, 159)"
      ]
     },
     "execution_count": 34,
     "metadata": {
      "tags": []
     },
     "output_type": "execute_result"
    }
   ],
   "source": [
    "#Correlation Matrix\n",
    "\n",
    "correlation_matrix = np.corrcoef(decomposed_matrix)\n",
    "correlation_matrix.shape"
   ]
  },
  {
   "cell_type": "code",
   "execution_count": 36,
   "metadata": {
    "colab": {
     "base_uri": "https://localhost:8080/"
    },
    "id": "nxtt-cw0sjvq",
    "outputId": "0e3552ed-080a-4931-e71d-f5d2135582f7"
   },
   "outputs": [
    {
     "data": {
      "text/plain": [
       "3067"
      ]
     },
     "execution_count": 36,
     "metadata": {
      "tags": []
     },
     "output_type": "execute_result"
    }
   ],
   "source": [
    "X.index[158]"
   ]
  },
  {
   "cell_type": "code",
   "execution_count": 38,
   "metadata": {
    "colab": {
     "base_uri": "https://localhost:8080/"
    },
    "id": "9HHDLy__skrP",
    "outputId": "9c18d5e9-9cec-41df-dd0c-3123ebda6f2e"
   },
   "outputs": [
    {
     "data": {
      "text/plain": [
       "158"
      ]
     },
     "execution_count": 38,
     "metadata": {
      "tags": []
     },
     "output_type": "execute_result"
    }
   ],
   "source": [
    "#Index # of product ID purchased by customer\n",
    "i = 3067\n",
    "\n",
    "product_names = list(X.index)\n",
    "product_ID = product_names.index(i)\n",
    "product_ID"
   ]
  },
  {
   "cell_type": "markdown",
   "metadata": {
    "id": "U4EEDBgrsz3d"
   },
   "source": [
    "Correlation for all crops with the crop purchased by this customer based on crops purchased by other customers who bought the same product"
   ]
  },
  {
   "cell_type": "code",
   "execution_count": 39,
   "metadata": {
    "colab": {
     "base_uri": "https://localhost:8080/"
    },
    "id": "Qkn8NOoMs4PN",
    "outputId": "d9c9a170-820d-4e79-bcee-80acc581732b"
   },
   "outputs": [
    {
     "data": {
      "text/plain": [
       "(159,)"
      ]
     },
     "execution_count": 39,
     "metadata": {
      "tags": []
     },
     "output_type": "execute_result"
    }
   ],
   "source": [
    "correlation_product_ID = correlation_matrix[product_ID]\n",
    "correlation_product_ID.shape"
   ]
  },
  {
   "cell_type": "markdown",
   "metadata": {
    "id": "4FYx5iQeju_X"
   },
   "source": [
    "*RESULT*"
   ]
  },
  {
   "cell_type": "code",
   "execution_count": 63,
   "metadata": {
    "colab": {
     "base_uri": "https://localhost:8080/"
    },
    "id": "AAnYUiHGs4nG",
    "outputId": "c6917503-4265-453f-8c80-361dbef0c325"
   },
   "outputs": [
    {
     "data": {
      "text/plain": [
       "[2736, 2742, 2744, 2757, 2778, 2857, 2866, 2963, 2989, 2990, 2999]"
      ]
     },
     "execution_count": 63,
     "metadata": {
      "tags": []
     },
     "output_type": "execute_result"
    }
   ],
   "source": [
    "Recommend = list(X.index[correlation_product_ID > 0.55])\n",
    "\n",
    "# Removes the item already bought by the customer\n",
    "Recommend.remove(i) \n",
    "\n",
    "Recommend[0:24]"
   ]
  },
  {
   "cell_type": "markdown",
   "metadata": {
    "id": "iXigQHt0KpbG"
   },
   "source": [
    "Here are the top products to be displayed by the recommendation system to the above customer based on the purchase history of other customers in the website."
   ]
  },
  {
   "cell_type": "markdown",
   "metadata": {
    "id": "asnddqhZdbUC"
   },
   "source": [
    "## **Hybrid Recommender System**"
   ]
  },
  {
   "cell_type": "markdown",
   "metadata": {
    "id": "2uvz6v8ndrvL"
   },
   "source": [
    "Now building a hybrid recommender that combines corrwith() method which computes the Pearson correlation coefficients with collaborative filtering.     \n",
    "\n",
    "This is how it works:\n",
    "\n",
    "Input: User ID and Product ID\n",
    "\n",
    "Output: Similar products sorted on the basis of expected quantity bought by a particular user.\n",
    "\n",
    "First, we create a pivot table which contains userIds as rows and productIds as columns."
   ]
  },
  {
   "cell_type": "code",
   "execution_count": 106,
   "metadata": {
    "colab": {
     "base_uri": "https://localhost:8080/",
     "height": 318
    },
    "id": "pAA-z4ySdhnL",
    "outputId": "42c55b0e-7596-45f0-c2dc-eb954daa3974"
   },
   "outputs": [
    {
     "data": {
      "text/html": [
       "<div>\n",
       "<style scoped>\n",
       "    .dataframe tbody tr th:only-of-type {\n",
       "        vertical-align: middle;\n",
       "    }\n",
       "\n",
       "    .dataframe tbody tr th {\n",
       "        vertical-align: top;\n",
       "    }\n",
       "\n",
       "    .dataframe thead th {\n",
       "        text-align: right;\n",
       "    }\n",
       "</style>\n",
       "<table border=\"1\" class=\"dataframe\">\n",
       "  <thead>\n",
       "    <tr style=\"text-align: right;\">\n",
       "      <th>Crop ID</th>\n",
       "      <th>2727</th>\n",
       "      <th>2728</th>\n",
       "      <th>2729</th>\n",
       "      <th>2730</th>\n",
       "      <th>2731</th>\n",
       "      <th>2732</th>\n",
       "      <th>2733</th>\n",
       "      <th>2734</th>\n",
       "      <th>2736</th>\n",
       "      <th>2737</th>\n",
       "      <th>2738</th>\n",
       "      <th>2739</th>\n",
       "      <th>2740</th>\n",
       "      <th>2741</th>\n",
       "      <th>2742</th>\n",
       "      <th>2743</th>\n",
       "      <th>2744</th>\n",
       "      <th>2745</th>\n",
       "      <th>2746</th>\n",
       "      <th>2747</th>\n",
       "      <th>2748</th>\n",
       "      <th>2751</th>\n",
       "      <th>2754</th>\n",
       "      <th>2756</th>\n",
       "      <th>2757</th>\n",
       "      <th>2758</th>\n",
       "      <th>2759</th>\n",
       "      <th>2760</th>\n",
       "      <th>2761</th>\n",
       "      <th>2762</th>\n",
       "      <th>2763</th>\n",
       "      <th>2764</th>\n",
       "      <th>2765</th>\n",
       "      <th>2768</th>\n",
       "      <th>2769</th>\n",
       "      <th>2770</th>\n",
       "      <th>2773</th>\n",
       "      <th>2774</th>\n",
       "      <th>2775</th>\n",
       "      <th>2776</th>\n",
       "      <th>...</th>\n",
       "      <th>2898</th>\n",
       "      <th>2899</th>\n",
       "      <th>2900</th>\n",
       "      <th>2901</th>\n",
       "      <th>2902</th>\n",
       "      <th>2903</th>\n",
       "      <th>2909</th>\n",
       "      <th>2910</th>\n",
       "      <th>2916</th>\n",
       "      <th>2918</th>\n",
       "      <th>2920</th>\n",
       "      <th>2921</th>\n",
       "      <th>2931</th>\n",
       "      <th>2932</th>\n",
       "      <th>2933</th>\n",
       "      <th>2942</th>\n",
       "      <th>2943</th>\n",
       "      <th>2955</th>\n",
       "      <th>2963</th>\n",
       "      <th>2983</th>\n",
       "      <th>2984</th>\n",
       "      <th>2989</th>\n",
       "      <th>2990</th>\n",
       "      <th>2991</th>\n",
       "      <th>2998</th>\n",
       "      <th>2999</th>\n",
       "      <th>3010</th>\n",
       "      <th>3023</th>\n",
       "      <th>3031</th>\n",
       "      <th>3035</th>\n",
       "      <th>3036</th>\n",
       "      <th>3037</th>\n",
       "      <th>3046</th>\n",
       "      <th>3047</th>\n",
       "      <th>3048</th>\n",
       "      <th>3058</th>\n",
       "      <th>3059</th>\n",
       "      <th>3065</th>\n",
       "      <th>3066</th>\n",
       "      <th>3067</th>\n",
       "    </tr>\n",
       "    <tr>\n",
       "      <th>Buyer ID</th>\n",
       "      <th></th>\n",
       "      <th></th>\n",
       "      <th></th>\n",
       "      <th></th>\n",
       "      <th></th>\n",
       "      <th></th>\n",
       "      <th></th>\n",
       "      <th></th>\n",
       "      <th></th>\n",
       "      <th></th>\n",
       "      <th></th>\n",
       "      <th></th>\n",
       "      <th></th>\n",
       "      <th></th>\n",
       "      <th></th>\n",
       "      <th></th>\n",
       "      <th></th>\n",
       "      <th></th>\n",
       "      <th></th>\n",
       "      <th></th>\n",
       "      <th></th>\n",
       "      <th></th>\n",
       "      <th></th>\n",
       "      <th></th>\n",
       "      <th></th>\n",
       "      <th></th>\n",
       "      <th></th>\n",
       "      <th></th>\n",
       "      <th></th>\n",
       "      <th></th>\n",
       "      <th></th>\n",
       "      <th></th>\n",
       "      <th></th>\n",
       "      <th></th>\n",
       "      <th></th>\n",
       "      <th></th>\n",
       "      <th></th>\n",
       "      <th></th>\n",
       "      <th></th>\n",
       "      <th></th>\n",
       "      <th></th>\n",
       "      <th></th>\n",
       "      <th></th>\n",
       "      <th></th>\n",
       "      <th></th>\n",
       "      <th></th>\n",
       "      <th></th>\n",
       "      <th></th>\n",
       "      <th></th>\n",
       "      <th></th>\n",
       "      <th></th>\n",
       "      <th></th>\n",
       "      <th></th>\n",
       "      <th></th>\n",
       "      <th></th>\n",
       "      <th></th>\n",
       "      <th></th>\n",
       "      <th></th>\n",
       "      <th></th>\n",
       "      <th></th>\n",
       "      <th></th>\n",
       "      <th></th>\n",
       "      <th></th>\n",
       "      <th></th>\n",
       "      <th></th>\n",
       "      <th></th>\n",
       "      <th></th>\n",
       "      <th></th>\n",
       "      <th></th>\n",
       "      <th></th>\n",
       "      <th></th>\n",
       "      <th></th>\n",
       "      <th></th>\n",
       "      <th></th>\n",
       "      <th></th>\n",
       "      <th></th>\n",
       "      <th></th>\n",
       "      <th></th>\n",
       "      <th></th>\n",
       "      <th></th>\n",
       "      <th></th>\n",
       "    </tr>\n",
       "  </thead>\n",
       "  <tbody>\n",
       "    <tr>\n",
       "      <th>0</th>\n",
       "      <td>0</td>\n",
       "      <td>0</td>\n",
       "      <td>0</td>\n",
       "      <td>0</td>\n",
       "      <td>0</td>\n",
       "      <td>0</td>\n",
       "      <td>0</td>\n",
       "      <td>0</td>\n",
       "      <td>0</td>\n",
       "      <td>0</td>\n",
       "      <td>0</td>\n",
       "      <td>0</td>\n",
       "      <td>0</td>\n",
       "      <td>0</td>\n",
       "      <td>0</td>\n",
       "      <td>0</td>\n",
       "      <td>0</td>\n",
       "      <td>0</td>\n",
       "      <td>0</td>\n",
       "      <td>0</td>\n",
       "      <td>0</td>\n",
       "      <td>0</td>\n",
       "      <td>0</td>\n",
       "      <td>0</td>\n",
       "      <td>0</td>\n",
       "      <td>0</td>\n",
       "      <td>0</td>\n",
       "      <td>0</td>\n",
       "      <td>0</td>\n",
       "      <td>0</td>\n",
       "      <td>0</td>\n",
       "      <td>0</td>\n",
       "      <td>0</td>\n",
       "      <td>0</td>\n",
       "      <td>0</td>\n",
       "      <td>0</td>\n",
       "      <td>0</td>\n",
       "      <td>0</td>\n",
       "      <td>0</td>\n",
       "      <td>0</td>\n",
       "      <td>...</td>\n",
       "      <td>0</td>\n",
       "      <td>0</td>\n",
       "      <td>0</td>\n",
       "      <td>0</td>\n",
       "      <td>0</td>\n",
       "      <td>0</td>\n",
       "      <td>0</td>\n",
       "      <td>0</td>\n",
       "      <td>0</td>\n",
       "      <td>0</td>\n",
       "      <td>0</td>\n",
       "      <td>0</td>\n",
       "      <td>0</td>\n",
       "      <td>0</td>\n",
       "      <td>0</td>\n",
       "      <td>0</td>\n",
       "      <td>0</td>\n",
       "      <td>0</td>\n",
       "      <td>0</td>\n",
       "      <td>0</td>\n",
       "      <td>0</td>\n",
       "      <td>0</td>\n",
       "      <td>0</td>\n",
       "      <td>0</td>\n",
       "      <td>0</td>\n",
       "      <td>0</td>\n",
       "      <td>0</td>\n",
       "      <td>0</td>\n",
       "      <td>0</td>\n",
       "      <td>0</td>\n",
       "      <td>0</td>\n",
       "      <td>0</td>\n",
       "      <td>0</td>\n",
       "      <td>1</td>\n",
       "      <td>0</td>\n",
       "      <td>0</td>\n",
       "      <td>0</td>\n",
       "      <td>0</td>\n",
       "      <td>0</td>\n",
       "      <td>0</td>\n",
       "    </tr>\n",
       "    <tr>\n",
       "      <th>1</th>\n",
       "      <td>0</td>\n",
       "      <td>0</td>\n",
       "      <td>0</td>\n",
       "      <td>0</td>\n",
       "      <td>0</td>\n",
       "      <td>0</td>\n",
       "      <td>0</td>\n",
       "      <td>0</td>\n",
       "      <td>0</td>\n",
       "      <td>0</td>\n",
       "      <td>0</td>\n",
       "      <td>0</td>\n",
       "      <td>0</td>\n",
       "      <td>0</td>\n",
       "      <td>0</td>\n",
       "      <td>0</td>\n",
       "      <td>0</td>\n",
       "      <td>0</td>\n",
       "      <td>0</td>\n",
       "      <td>0</td>\n",
       "      <td>0</td>\n",
       "      <td>0</td>\n",
       "      <td>0</td>\n",
       "      <td>0</td>\n",
       "      <td>0</td>\n",
       "      <td>0</td>\n",
       "      <td>0</td>\n",
       "      <td>0</td>\n",
       "      <td>0</td>\n",
       "      <td>0</td>\n",
       "      <td>0</td>\n",
       "      <td>0</td>\n",
       "      <td>0</td>\n",
       "      <td>0</td>\n",
       "      <td>0</td>\n",
       "      <td>0</td>\n",
       "      <td>0</td>\n",
       "      <td>0</td>\n",
       "      <td>0</td>\n",
       "      <td>0</td>\n",
       "      <td>...</td>\n",
       "      <td>0</td>\n",
       "      <td>0</td>\n",
       "      <td>0</td>\n",
       "      <td>0</td>\n",
       "      <td>0</td>\n",
       "      <td>0</td>\n",
       "      <td>0</td>\n",
       "      <td>0</td>\n",
       "      <td>0</td>\n",
       "      <td>0</td>\n",
       "      <td>0</td>\n",
       "      <td>0</td>\n",
       "      <td>0</td>\n",
       "      <td>0</td>\n",
       "      <td>0</td>\n",
       "      <td>0</td>\n",
       "      <td>0</td>\n",
       "      <td>0</td>\n",
       "      <td>0</td>\n",
       "      <td>0</td>\n",
       "      <td>0</td>\n",
       "      <td>0</td>\n",
       "      <td>0</td>\n",
       "      <td>0</td>\n",
       "      <td>0</td>\n",
       "      <td>0</td>\n",
       "      <td>0</td>\n",
       "      <td>0</td>\n",
       "      <td>0</td>\n",
       "      <td>0</td>\n",
       "      <td>1</td>\n",
       "      <td>0</td>\n",
       "      <td>0</td>\n",
       "      <td>0</td>\n",
       "      <td>0</td>\n",
       "      <td>0</td>\n",
       "      <td>0</td>\n",
       "      <td>0</td>\n",
       "      <td>0</td>\n",
       "      <td>0</td>\n",
       "    </tr>\n",
       "    <tr>\n",
       "      <th>2</th>\n",
       "      <td>0</td>\n",
       "      <td>0</td>\n",
       "      <td>0</td>\n",
       "      <td>0</td>\n",
       "      <td>0</td>\n",
       "      <td>0</td>\n",
       "      <td>0</td>\n",
       "      <td>0</td>\n",
       "      <td>0</td>\n",
       "      <td>0</td>\n",
       "      <td>0</td>\n",
       "      <td>0</td>\n",
       "      <td>0</td>\n",
       "      <td>0</td>\n",
       "      <td>0</td>\n",
       "      <td>0</td>\n",
       "      <td>0</td>\n",
       "      <td>0</td>\n",
       "      <td>0</td>\n",
       "      <td>0</td>\n",
       "      <td>0</td>\n",
       "      <td>0</td>\n",
       "      <td>0</td>\n",
       "      <td>0</td>\n",
       "      <td>0</td>\n",
       "      <td>0</td>\n",
       "      <td>0</td>\n",
       "      <td>0</td>\n",
       "      <td>0</td>\n",
       "      <td>0</td>\n",
       "      <td>0</td>\n",
       "      <td>0</td>\n",
       "      <td>0</td>\n",
       "      <td>0</td>\n",
       "      <td>0</td>\n",
       "      <td>0</td>\n",
       "      <td>0</td>\n",
       "      <td>0</td>\n",
       "      <td>0</td>\n",
       "      <td>0</td>\n",
       "      <td>...</td>\n",
       "      <td>0</td>\n",
       "      <td>0</td>\n",
       "      <td>0</td>\n",
       "      <td>0</td>\n",
       "      <td>0</td>\n",
       "      <td>0</td>\n",
       "      <td>0</td>\n",
       "      <td>0</td>\n",
       "      <td>0</td>\n",
       "      <td>0</td>\n",
       "      <td>0</td>\n",
       "      <td>0</td>\n",
       "      <td>0</td>\n",
       "      <td>0</td>\n",
       "      <td>0</td>\n",
       "      <td>0</td>\n",
       "      <td>0</td>\n",
       "      <td>0</td>\n",
       "      <td>0</td>\n",
       "      <td>0</td>\n",
       "      <td>0</td>\n",
       "      <td>0</td>\n",
       "      <td>0</td>\n",
       "      <td>0</td>\n",
       "      <td>0</td>\n",
       "      <td>0</td>\n",
       "      <td>0</td>\n",
       "      <td>0</td>\n",
       "      <td>0</td>\n",
       "      <td>0</td>\n",
       "      <td>0</td>\n",
       "      <td>0</td>\n",
       "      <td>0</td>\n",
       "      <td>0</td>\n",
       "      <td>0</td>\n",
       "      <td>0</td>\n",
       "      <td>0</td>\n",
       "      <td>0</td>\n",
       "      <td>10</td>\n",
       "      <td>0</td>\n",
       "    </tr>\n",
       "    <tr>\n",
       "      <th>3</th>\n",
       "      <td>0</td>\n",
       "      <td>0</td>\n",
       "      <td>0</td>\n",
       "      <td>0</td>\n",
       "      <td>0</td>\n",
       "      <td>0</td>\n",
       "      <td>0</td>\n",
       "      <td>0</td>\n",
       "      <td>0</td>\n",
       "      <td>0</td>\n",
       "      <td>0</td>\n",
       "      <td>0</td>\n",
       "      <td>0</td>\n",
       "      <td>0</td>\n",
       "      <td>0</td>\n",
       "      <td>0</td>\n",
       "      <td>0</td>\n",
       "      <td>0</td>\n",
       "      <td>0</td>\n",
       "      <td>0</td>\n",
       "      <td>0</td>\n",
       "      <td>0</td>\n",
       "      <td>0</td>\n",
       "      <td>0</td>\n",
       "      <td>0</td>\n",
       "      <td>0</td>\n",
       "      <td>0</td>\n",
       "      <td>0</td>\n",
       "      <td>0</td>\n",
       "      <td>0</td>\n",
       "      <td>0</td>\n",
       "      <td>0</td>\n",
       "      <td>0</td>\n",
       "      <td>0</td>\n",
       "      <td>0</td>\n",
       "      <td>0</td>\n",
       "      <td>0</td>\n",
       "      <td>0</td>\n",
       "      <td>0</td>\n",
       "      <td>0</td>\n",
       "      <td>...</td>\n",
       "      <td>0</td>\n",
       "      <td>0</td>\n",
       "      <td>0</td>\n",
       "      <td>0</td>\n",
       "      <td>0</td>\n",
       "      <td>0</td>\n",
       "      <td>0</td>\n",
       "      <td>0</td>\n",
       "      <td>0</td>\n",
       "      <td>0</td>\n",
       "      <td>0</td>\n",
       "      <td>0</td>\n",
       "      <td>0</td>\n",
       "      <td>0</td>\n",
       "      <td>0</td>\n",
       "      <td>0</td>\n",
       "      <td>0</td>\n",
       "      <td>0</td>\n",
       "      <td>0</td>\n",
       "      <td>0</td>\n",
       "      <td>0</td>\n",
       "      <td>0</td>\n",
       "      <td>0</td>\n",
       "      <td>0</td>\n",
       "      <td>0</td>\n",
       "      <td>0</td>\n",
       "      <td>0</td>\n",
       "      <td>0</td>\n",
       "      <td>0</td>\n",
       "      <td>0</td>\n",
       "      <td>0</td>\n",
       "      <td>0</td>\n",
       "      <td>0</td>\n",
       "      <td>0</td>\n",
       "      <td>0</td>\n",
       "      <td>0</td>\n",
       "      <td>0</td>\n",
       "      <td>0</td>\n",
       "      <td>0</td>\n",
       "      <td>0</td>\n",
       "    </tr>\n",
       "    <tr>\n",
       "      <th>4</th>\n",
       "      <td>0</td>\n",
       "      <td>0</td>\n",
       "      <td>0</td>\n",
       "      <td>0</td>\n",
       "      <td>0</td>\n",
       "      <td>0</td>\n",
       "      <td>0</td>\n",
       "      <td>0</td>\n",
       "      <td>0</td>\n",
       "      <td>0</td>\n",
       "      <td>0</td>\n",
       "      <td>0</td>\n",
       "      <td>0</td>\n",
       "      <td>0</td>\n",
       "      <td>0</td>\n",
       "      <td>0</td>\n",
       "      <td>0</td>\n",
       "      <td>0</td>\n",
       "      <td>0</td>\n",
       "      <td>0</td>\n",
       "      <td>0</td>\n",
       "      <td>0</td>\n",
       "      <td>0</td>\n",
       "      <td>0</td>\n",
       "      <td>0</td>\n",
       "      <td>0</td>\n",
       "      <td>0</td>\n",
       "      <td>0</td>\n",
       "      <td>0</td>\n",
       "      <td>0</td>\n",
       "      <td>0</td>\n",
       "      <td>0</td>\n",
       "      <td>0</td>\n",
       "      <td>0</td>\n",
       "      <td>0</td>\n",
       "      <td>0</td>\n",
       "      <td>0</td>\n",
       "      <td>0</td>\n",
       "      <td>0</td>\n",
       "      <td>0</td>\n",
       "      <td>...</td>\n",
       "      <td>0</td>\n",
       "      <td>0</td>\n",
       "      <td>0</td>\n",
       "      <td>0</td>\n",
       "      <td>0</td>\n",
       "      <td>0</td>\n",
       "      <td>0</td>\n",
       "      <td>0</td>\n",
       "      <td>0</td>\n",
       "      <td>0</td>\n",
       "      <td>0</td>\n",
       "      <td>0</td>\n",
       "      <td>0</td>\n",
       "      <td>0</td>\n",
       "      <td>0</td>\n",
       "      <td>0</td>\n",
       "      <td>0</td>\n",
       "      <td>0</td>\n",
       "      <td>0</td>\n",
       "      <td>0</td>\n",
       "      <td>0</td>\n",
       "      <td>0</td>\n",
       "      <td>0</td>\n",
       "      <td>0</td>\n",
       "      <td>0</td>\n",
       "      <td>0</td>\n",
       "      <td>0</td>\n",
       "      <td>0</td>\n",
       "      <td>0</td>\n",
       "      <td>0</td>\n",
       "      <td>0</td>\n",
       "      <td>0</td>\n",
       "      <td>0</td>\n",
       "      <td>3</td>\n",
       "      <td>0</td>\n",
       "      <td>0</td>\n",
       "      <td>0</td>\n",
       "      <td>0</td>\n",
       "      <td>0</td>\n",
       "      <td>0</td>\n",
       "    </tr>\n",
       "  </tbody>\n",
       "</table>\n",
       "<p>5 rows × 159 columns</p>\n",
       "</div>"
      ],
      "text/plain": [
       "Crop ID   2727  2728  2729  2730  2731  ...  3058  3059  3065  3066  3067\n",
       "Buyer ID                                ...                              \n",
       "0            0     0     0     0     0  ...     0     0     0     0     0\n",
       "1            0     0     0     0     0  ...     0     0     0     0     0\n",
       "2            0     0     0     0     0  ...     0     0     0    10     0\n",
       "3            0     0     0     0     0  ...     0     0     0     0     0\n",
       "4            0     0     0     0     0  ...     0     0     0     0     0\n",
       "\n",
       "[5 rows x 159 columns]"
      ]
     },
     "execution_count": 106,
     "metadata": {
      "tags": []
     },
     "output_type": "execute_result"
    }
   ],
   "source": [
    "matrix = df.pivot_table(values='Qty', index='Buyer ID', columns='Crop ID', aggfunc= 'sum', fill_value=0)\n",
    "matrix.head()"
   ]
  },
  {
   "cell_type": "code",
   "execution_count": 107,
   "metadata": {
    "colab": {
     "base_uri": "https://localhost:8080/"
    },
    "id": "w2ubd-8Hi4Ar",
    "outputId": "685b0b92-2a6e-409d-969e-765000cbf9c7"
   },
   "outputs": [
    {
     "data": {
      "text/plain": [
       "(652, 159)"
      ]
     },
     "execution_count": 107,
     "metadata": {
      "tags": []
     },
     "output_type": "execute_result"
    }
   ],
   "source": [
    "matrix.shape"
   ]
  },
  {
   "cell_type": "markdown",
   "metadata": {
    "id": "x5T1VTw0e9b_"
   },
   "source": [
    "Defining a function that takes in productId and useId as input and outputs top most similar products. For this purpose, corrwith() method is used to compute pairwise correlation between columns of dataFrame and Pearson correlation coefficients are calculated."
   ]
  },
  {
   "cell_type": "code",
   "execution_count": 89,
   "metadata": {
    "id": "QfgK_U9Ve-Lp"
   },
   "outputs": [],
   "source": [
    "# Function that takes in Crop Id and Buyer Id as input and outputs top most similar products.\n",
    "\n",
    "def hybrid_recommendations(userId, productId):\n",
    "    \n",
    "    # Get the Id of the top products that are correlated with the ProductId chosen by the user.\n",
    "    top_= matrix.corrwith(matrix[productId]).sort_values(ascending=False).head(15)\n",
    "    #print(top_)\n",
    "    # Predict the quantity the user might give to these top most correlated products.\n",
    "    est_quantity=[]\n",
    "    for x in list(top_.index):\n",
    "        if str(top_[x])!='nan':\n",
    "            est_quantity.append(svd.predict(userId, iid=x, r_ui=None).est)\n",
    "           \n",
    "    return pd.DataFrame({'Crop ID':list(top_.index)[:len(est_quantity)], 'Score':est_quantity}).sort_values(by='Score', ascending=False).reset_index(drop=True)"
   ]
  },
  {
   "cell_type": "markdown",
   "metadata": {
    "id": "A9b-Di8Ij9eh"
   },
   "source": [
    "*RESULT*"
   ]
  },
  {
   "cell_type": "code",
   "execution_count": 92,
   "metadata": {
    "colab": {
     "base_uri": "https://localhost:8080/",
     "height": 514
    },
    "id": "z2uTJmFafuMN",
    "outputId": "78b7b794-9eba-4c87-b84c-2338280fdda9"
   },
   "outputs": [
    {
     "data": {
      "text/html": [
       "<div>\n",
       "<style scoped>\n",
       "    .dataframe tbody tr th:only-of-type {\n",
       "        vertical-align: middle;\n",
       "    }\n",
       "\n",
       "    .dataframe tbody tr th {\n",
       "        vertical-align: top;\n",
       "    }\n",
       "\n",
       "    .dataframe thead th {\n",
       "        text-align: right;\n",
       "    }\n",
       "</style>\n",
       "<table border=\"1\" class=\"dataframe\">\n",
       "  <thead>\n",
       "    <tr style=\"text-align: right;\">\n",
       "      <th></th>\n",
       "      <th>Crop ID</th>\n",
       "      <th>Score</th>\n",
       "    </tr>\n",
       "  </thead>\n",
       "  <tbody>\n",
       "    <tr>\n",
       "      <th>0</th>\n",
       "      <td>2855</td>\n",
       "      <td>1.503891</td>\n",
       "    </tr>\n",
       "    <tr>\n",
       "      <th>1</th>\n",
       "      <td>2765</td>\n",
       "      <td>1.369292</td>\n",
       "    </tr>\n",
       "    <tr>\n",
       "      <th>2</th>\n",
       "      <td>2770</td>\n",
       "      <td>1.289434</td>\n",
       "    </tr>\n",
       "    <tr>\n",
       "      <th>3</th>\n",
       "      <td>2896</td>\n",
       "      <td>1.245390</td>\n",
       "    </tr>\n",
       "    <tr>\n",
       "      <th>4</th>\n",
       "      <td>2865</td>\n",
       "      <td>1.149641</td>\n",
       "    </tr>\n",
       "    <tr>\n",
       "      <th>5</th>\n",
       "      <td>2863</td>\n",
       "      <td>1.128722</td>\n",
       "    </tr>\n",
       "    <tr>\n",
       "      <th>6</th>\n",
       "      <td>2775</td>\n",
       "      <td>1.126053</td>\n",
       "    </tr>\n",
       "    <tr>\n",
       "      <th>7</th>\n",
       "      <td>2757</td>\n",
       "      <td>1.125376</td>\n",
       "    </tr>\n",
       "    <tr>\n",
       "      <th>8</th>\n",
       "      <td>2856</td>\n",
       "      <td>1.086378</td>\n",
       "    </tr>\n",
       "    <tr>\n",
       "      <th>9</th>\n",
       "      <td>2756</td>\n",
       "      <td>1.068643</td>\n",
       "    </tr>\n",
       "    <tr>\n",
       "      <th>10</th>\n",
       "      <td>2839</td>\n",
       "      <td>1.059005</td>\n",
       "    </tr>\n",
       "    <tr>\n",
       "      <th>11</th>\n",
       "      <td>2852</td>\n",
       "      <td>1.040835</td>\n",
       "    </tr>\n",
       "    <tr>\n",
       "      <th>12</th>\n",
       "      <td>2773</td>\n",
       "      <td>1.038028</td>\n",
       "    </tr>\n",
       "    <tr>\n",
       "      <th>13</th>\n",
       "      <td>2802</td>\n",
       "      <td>1.033396</td>\n",
       "    </tr>\n",
       "    <tr>\n",
       "      <th>14</th>\n",
       "      <td>2885</td>\n",
       "      <td>1.024436</td>\n",
       "    </tr>\n",
       "  </tbody>\n",
       "</table>\n",
       "</div>"
      ],
      "text/plain": [
       "    Crop ID     Score\n",
       "0      2855  1.503891\n",
       "1      2765  1.369292\n",
       "2      2770  1.289434\n",
       "3      2896  1.245390\n",
       "4      2865  1.149641\n",
       "5      2863  1.128722\n",
       "6      2775  1.126053\n",
       "7      2757  1.125376\n",
       "8      2856  1.086378\n",
       "9      2756  1.068643\n",
       "10     2839  1.059005\n",
       "11     2852  1.040835\n",
       "12     2773  1.038028\n",
       "13     2802  1.033396\n",
       "14     2885  1.024436"
      ]
     },
     "execution_count": 92,
     "metadata": {
      "tags": []
     },
     "output_type": "execute_result"
    }
   ],
   "source": [
    "hybrid_recommendations(291, 2856)"
   ]
  },
  {
   "cell_type": "markdown",
   "metadata": {
    "id": "8QIQuyFoUaRw"
   },
   "source": [
    "Hybrid Recommendation: Function that takes in Crop Id and Buyer Id as input and outputs top most similar products."
   ]
  },
  {
   "cell_type": "code",
   "execution_count": 86,
   "metadata": {
    "id": "j2ULuTP3QtzE"
   },
   "outputs": [],
   "source": [
    "#df.loc[df['Crop ID']==2856\n",
    "#df.loc[df['Buyer ID']==291]\n"
   ]
  },
  {
   "cell_type": "markdown",
   "metadata": {
    "id": "pjcR9raPggP2"
   },
   "source": [
    "# Conclusion:-"
   ]
  },
  {
   "cell_type": "markdown",
   "metadata": {
    "id": "WF7ydYThghhc"
   },
   "source": [
    "We built three different recommendation systems based on different algorithms. They are as follows:\n",
    "\n",
    "**Popularity-Based Recommender:** This system used the total quantity purchased and mean quantity to find the top productIds. The Weighted Rating System was used to calculate scores on which the sorting was finally performed.\n",
    "\n",
    "**Collaborative Filtering:** It used the powerful Surprise Library to build a collaborative filter based on single value decomposition. The RMSE obtained was about 1.39 and the engine predicted estimated ratings for a given user and product. And user-item interaction type of filtering uses existing user-item interactions to train a model to predict the top most items that a user might like the most. They have large coverage, even when working with large sparse matrices.\n",
    "\n",
    "**Hybrid Engine:** It combined corrwith() method which computed the Pearson correlation coefficients with collaborative filtering. Our hybrid recommender took useId and productId as input and suggested top products that were similar to the input productId based on the estimated ratings that was internally calculated for the input userId. This Hybrid System took advantage of both Pearson method and Collaborative filtering and therefore made reliable predictions"
   ]
  }
 ],
 "metadata": {
  "colab": {
   "collapsed_sections": [
    "6w1lm9jOjbpV",
    "CoI-Avyyk51N",
    "zuxvNe5KcwVm",
    "AL-tTD4GBxlu",
    "inkjHcNYW-eP",
    "dSrYwdt8eTsK",
    "asnddqhZdbUC",
    "pjcR9raPggP2"
   ],
   "name": "HFN_recommender",
   "provenance": []
  },
  "kernelspec": {
   "display_name": "Python 3",
   "language": "python",
   "name": "python3"
  },
  "language_info": {
   "codemirror_mode": {
    "name": "ipython",
    "version": 3
   },
   "file_extension": ".py",
   "mimetype": "text/x-python",
   "name": "python",
   "nbconvert_exporter": "python",
   "pygments_lexer": "ipython3",
   "version": "3.8.3"
  }
 },
 "nbformat": 4,
 "nbformat_minor": 1
}
