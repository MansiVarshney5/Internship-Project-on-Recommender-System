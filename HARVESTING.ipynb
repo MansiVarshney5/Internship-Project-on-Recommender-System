{
 "cells": [
  {
   "cell_type": "code",
   "execution_count": 37,
   "metadata": {},
   "outputs": [],
   "source": [
    "import numpy as np\n",
    "import pandas as pd\n",
    "import matplotlib.pyplot as plt\n",
    "import seaborn as sns\n",
    "%matplotlib inline\n",
    "\n",
    "import warnings\n",
    "warnings.filterwarnings('ignore')"
   ]
  },
  {
   "cell_type": "code",
   "execution_count": 38,
   "metadata": {},
   "outputs": [],
   "source": [
    "df = pd.read_excel('C://Users//Dell//OneDrive//Desktop//Harvesting//HFN Portal.xlsx')"
   ]
  },
  {
   "cell_type": "code",
   "execution_count": 39,
   "metadata": {},
   "outputs": [
    {
     "data": {
      "text/html": [
       "<div>\n",
       "<style scoped>\n",
       "    .dataframe tbody tr th:only-of-type {\n",
       "        vertical-align: middle;\n",
       "    }\n",
       "\n",
       "    .dataframe tbody tr th {\n",
       "        vertical-align: top;\n",
       "    }\n",
       "\n",
       "    .dataframe thead th {\n",
       "        text-align: right;\n",
       "    }\n",
       "</style>\n",
       "<table border=\"1\" class=\"dataframe\">\n",
       "  <thead>\n",
       "    <tr style=\"text-align: right;\">\n",
       "      <th></th>\n",
       "      <th>Order</th>\n",
       "      <th>Buyer Name</th>\n",
       "      <th>PinCode</th>\n",
       "      <th>Crop Name</th>\n",
       "      <th>Qty</th>\n",
       "      <th>Crop ID</th>\n",
       "      <th>Created Date</th>\n",
       "    </tr>\n",
       "  </thead>\n",
       "  <tbody>\n",
       "    <tr>\n",
       "      <th>0</th>\n",
       "      <td>NaN</td>\n",
       "      <td>NaN</td>\n",
       "      <td>NaN</td>\n",
       "      <td>NaN</td>\n",
       "      <td>NaN</td>\n",
       "      <td>NaN</td>\n",
       "      <td>NaT</td>\n",
       "    </tr>\n",
       "    <tr>\n",
       "      <th>1</th>\n",
       "      <td>230614.0</td>\n",
       "      <td>Monika Khatri</td>\n",
       "      <td>160055.0</td>\n",
       "      <td>Carrot</td>\n",
       "      <td>1.0</td>\n",
       "      <td>2856.0</td>\n",
       "      <td>2021-05-09</td>\n",
       "    </tr>\n",
       "    <tr>\n",
       "      <th>2</th>\n",
       "      <td>230561.0</td>\n",
       "      <td>Lovely walia</td>\n",
       "      <td>160071.0</td>\n",
       "      <td>Mango</td>\n",
       "      <td>2.0</td>\n",
       "      <td>2896.0</td>\n",
       "      <td>2021-04-29</td>\n",
       "    </tr>\n",
       "    <tr>\n",
       "      <th>3</th>\n",
       "      <td>230614.0</td>\n",
       "      <td>Monika Khatri</td>\n",
       "      <td>160055.0</td>\n",
       "      <td>Coriander Seeds</td>\n",
       "      <td>2.0</td>\n",
       "      <td>2870.0</td>\n",
       "      <td>2021-05-09</td>\n",
       "    </tr>\n",
       "    <tr>\n",
       "      <th>4</th>\n",
       "      <td>230561.0</td>\n",
       "      <td>Lovely walia</td>\n",
       "      <td>160071.0</td>\n",
       "      <td>Honey</td>\n",
       "      <td>1.0</td>\n",
       "      <td>2895.0</td>\n",
       "      <td>2021-04-29</td>\n",
       "    </tr>\n",
       "  </tbody>\n",
       "</table>\n",
       "</div>"
      ],
      "text/plain": [
       "      Order     Buyer Name   PinCode        Crop Name  Qty  Crop ID  \\\n",
       "0       NaN            NaN       NaN              NaN  NaN      NaN   \n",
       "1  230614.0  Monika Khatri  160055.0           Carrot  1.0   2856.0   \n",
       "2  230561.0   Lovely walia  160071.0            Mango  2.0   2896.0   \n",
       "3  230614.0  Monika Khatri  160055.0  Coriander Seeds  2.0   2870.0   \n",
       "4  230561.0   Lovely walia  160071.0            Honey  1.0   2895.0   \n",
       "\n",
       "  Created Date  \n",
       "0          NaT  \n",
       "1   2021-05-09  \n",
       "2   2021-04-29  \n",
       "3   2021-05-09  \n",
       "4   2021-04-29  "
      ]
     },
     "execution_count": 39,
     "metadata": {},
     "output_type": "execute_result"
    }
   ],
   "source": [
    "df.head()"
   ]
  },
  {
   "cell_type": "code",
   "execution_count": 42,
   "metadata": {},
   "outputs": [
    {
     "name": "stdout",
     "output_type": "stream",
     "text": [
      "<class 'pandas.core.frame.DataFrame'>\n",
      "RangeIndex: 3403 entries, 0 to 3402\n",
      "Data columns (total 7 columns):\n",
      " #   Column        Non-Null Count  Dtype         \n",
      "---  ------        --------------  -----         \n",
      " 0   Order         3402 non-null   float64       \n",
      " 1   Buyer Name    3402 non-null   object        \n",
      " 2   PinCode       3402 non-null   float64       \n",
      " 3   Crop Name     3402 non-null   object        \n",
      " 4   Qty           3402 non-null   float64       \n",
      " 5   Crop ID       3402 non-null   float64       \n",
      " 6   Created Date  3402 non-null   datetime64[ns]\n",
      "dtypes: datetime64[ns](1), float64(4), object(2)\n",
      "memory usage: 186.2+ KB\n"
     ]
    }
   ],
   "source": [
    "df.info()"
   ]
  },
  {
   "cell_type": "markdown",
   "metadata": {},
   "source": [
    "#### Five point summary of the dataset"
   ]
  },
  {
   "cell_type": "code",
   "execution_count": 43,
   "metadata": {},
   "outputs": [
    {
     "data": {
      "text/html": [
       "<div>\n",
       "<style scoped>\n",
       "    .dataframe tbody tr th:only-of-type {\n",
       "        vertical-align: middle;\n",
       "    }\n",
       "\n",
       "    .dataframe tbody tr th {\n",
       "        vertical-align: top;\n",
       "    }\n",
       "\n",
       "    .dataframe thead th {\n",
       "        text-align: right;\n",
       "    }\n",
       "</style>\n",
       "<table border=\"1\" class=\"dataframe\">\n",
       "  <thead>\n",
       "    <tr style=\"text-align: right;\">\n",
       "      <th></th>\n",
       "      <th>Order</th>\n",
       "      <th>PinCode</th>\n",
       "      <th>Qty</th>\n",
       "      <th>Crop ID</th>\n",
       "    </tr>\n",
       "  </thead>\n",
       "  <tbody>\n",
       "    <tr>\n",
       "      <th>count</th>\n",
       "      <td>3402.000000</td>\n",
       "      <td>3402.000000</td>\n",
       "      <td>3402.000000</td>\n",
       "      <td>3402.000000</td>\n",
       "    </tr>\n",
       "    <tr>\n",
       "      <th>mean</th>\n",
       "      <td>231287.301293</td>\n",
       "      <td>407955.083186</td>\n",
       "      <td>1.390653</td>\n",
       "      <td>2919.013815</td>\n",
       "    </tr>\n",
       "    <tr>\n",
       "      <th>std</th>\n",
       "      <td>482.546955</td>\n",
       "      <td>192812.680655</td>\n",
       "      <td>1.299789</td>\n",
       "      <td>107.595014</td>\n",
       "    </tr>\n",
       "    <tr>\n",
       "      <th>min</th>\n",
       "      <td>230521.000000</td>\n",
       "      <td>110001.000000</td>\n",
       "      <td>1.000000</td>\n",
       "      <td>2727.000000</td>\n",
       "    </tr>\n",
       "    <tr>\n",
       "      <th>25%</th>\n",
       "      <td>230798.250000</td>\n",
       "      <td>201002.000000</td>\n",
       "      <td>1.000000</td>\n",
       "      <td>2822.000000</td>\n",
       "    </tr>\n",
       "    <tr>\n",
       "      <th>50%</th>\n",
       "      <td>231267.000000</td>\n",
       "      <td>500048.000000</td>\n",
       "      <td>1.000000</td>\n",
       "      <td>2903.000000</td>\n",
       "    </tr>\n",
       "    <tr>\n",
       "      <th>75%</th>\n",
       "      <td>231715.000000</td>\n",
       "      <td>560055.000000</td>\n",
       "      <td>1.000000</td>\n",
       "      <td>3031.000000</td>\n",
       "    </tr>\n",
       "    <tr>\n",
       "      <th>max</th>\n",
       "      <td>232103.000000</td>\n",
       "      <td>852212.000000</td>\n",
       "      <td>32.000000</td>\n",
       "      <td>3067.000000</td>\n",
       "    </tr>\n",
       "  </tbody>\n",
       "</table>\n",
       "</div>"
      ],
      "text/plain": [
       "               Order        PinCode          Qty      Crop ID\n",
       "count    3402.000000    3402.000000  3402.000000  3402.000000\n",
       "mean   231287.301293  407955.083186     1.390653  2919.013815\n",
       "std       482.546955  192812.680655     1.299789   107.595014\n",
       "min    230521.000000  110001.000000     1.000000  2727.000000\n",
       "25%    230798.250000  201002.000000     1.000000  2822.000000\n",
       "50%    231267.000000  500048.000000     1.000000  2903.000000\n",
       "75%    231715.000000  560055.000000     1.000000  3031.000000\n",
       "max    232103.000000  852212.000000    32.000000  3067.000000"
      ]
     },
     "execution_count": 43,
     "metadata": {},
     "output_type": "execute_result"
    }
   ],
   "source": [
    "df.describe()"
   ]
  },
  {
   "cell_type": "markdown",
   "metadata": {},
   "source": [
    "### Handling Missing values"
   ]
  },
  {
   "cell_type": "code",
   "execution_count": 44,
   "metadata": {},
   "outputs": [
    {
     "data": {
      "text/plain": [
       "Order           1\n",
       "Buyer Name      1\n",
       "PinCode         1\n",
       "Crop Name       1\n",
       "Qty             1\n",
       "Crop ID         1\n",
       "Created Date    1\n",
       "dtype: int64"
      ]
     },
     "execution_count": 44,
     "metadata": {},
     "output_type": "execute_result"
    }
   ],
   "source": [
    "df.isnull().sum()"
   ]
  },
  {
   "cell_type": "code",
   "execution_count": 45,
   "metadata": {},
   "outputs": [
    {
     "data": {
      "text/plain": [
       "Order           0\n",
       "Buyer Name      0\n",
       "PinCode         0\n",
       "Crop Name       0\n",
       "Qty             0\n",
       "Crop ID         0\n",
       "Created Date    0\n",
       "dtype: int64"
      ]
     },
     "execution_count": 45,
     "metadata": {},
     "output_type": "execute_result"
    }
   ],
   "source": [
    "df.dropna(inplace=True)\n",
    "df.isnull().sum()"
   ]
  },
  {
   "cell_type": "code",
   "execution_count": 46,
   "metadata": {},
   "outputs": [],
   "source": [
    "df.reset_index(inplace=True)"
   ]
  },
  {
   "cell_type": "code",
   "execution_count": 47,
   "metadata": {},
   "outputs": [],
   "source": [
    "df.drop('index', axis=1, inplace=True)"
   ]
  },
  {
   "cell_type": "code",
   "execution_count": 48,
   "metadata": {},
   "outputs": [
    {
     "data": {
      "text/html": [
       "<div>\n",
       "<style scoped>\n",
       "    .dataframe tbody tr th:only-of-type {\n",
       "        vertical-align: middle;\n",
       "    }\n",
       "\n",
       "    .dataframe tbody tr th {\n",
       "        vertical-align: top;\n",
       "    }\n",
       "\n",
       "    .dataframe thead th {\n",
       "        text-align: right;\n",
       "    }\n",
       "</style>\n",
       "<table border=\"1\" class=\"dataframe\">\n",
       "  <thead>\n",
       "    <tr style=\"text-align: right;\">\n",
       "      <th></th>\n",
       "      <th>Order</th>\n",
       "      <th>Buyer Name</th>\n",
       "      <th>PinCode</th>\n",
       "      <th>Crop Name</th>\n",
       "      <th>Qty</th>\n",
       "      <th>Crop ID</th>\n",
       "      <th>Created Date</th>\n",
       "    </tr>\n",
       "  </thead>\n",
       "  <tbody>\n",
       "    <tr>\n",
       "      <th>0</th>\n",
       "      <td>230614.0</td>\n",
       "      <td>Monika Khatri</td>\n",
       "      <td>160055.0</td>\n",
       "      <td>Carrot</td>\n",
       "      <td>1.0</td>\n",
       "      <td>2856.0</td>\n",
       "      <td>2021-05-09</td>\n",
       "    </tr>\n",
       "    <tr>\n",
       "      <th>1</th>\n",
       "      <td>230561.0</td>\n",
       "      <td>Lovely walia</td>\n",
       "      <td>160071.0</td>\n",
       "      <td>Mango</td>\n",
       "      <td>2.0</td>\n",
       "      <td>2896.0</td>\n",
       "      <td>2021-04-29</td>\n",
       "    </tr>\n",
       "    <tr>\n",
       "      <th>2</th>\n",
       "      <td>230614.0</td>\n",
       "      <td>Monika Khatri</td>\n",
       "      <td>160055.0</td>\n",
       "      <td>Coriander Seeds</td>\n",
       "      <td>2.0</td>\n",
       "      <td>2870.0</td>\n",
       "      <td>2021-05-09</td>\n",
       "    </tr>\n",
       "    <tr>\n",
       "      <th>3</th>\n",
       "      <td>230561.0</td>\n",
       "      <td>Lovely walia</td>\n",
       "      <td>160071.0</td>\n",
       "      <td>Honey</td>\n",
       "      <td>1.0</td>\n",
       "      <td>2895.0</td>\n",
       "      <td>2021-04-29</td>\n",
       "    </tr>\n",
       "    <tr>\n",
       "      <th>4</th>\n",
       "      <td>230561.0</td>\n",
       "      <td>Lovely walia</td>\n",
       "      <td>160071.0</td>\n",
       "      <td>Coriander Seeds</td>\n",
       "      <td>1.0</td>\n",
       "      <td>2870.0</td>\n",
       "      <td>2021-04-29</td>\n",
       "    </tr>\n",
       "  </tbody>\n",
       "</table>\n",
       "</div>"
      ],
      "text/plain": [
       "      Order     Buyer Name   PinCode        Crop Name  Qty  Crop ID  \\\n",
       "0  230614.0  Monika Khatri  160055.0           Carrot  1.0   2856.0   \n",
       "1  230561.0   Lovely walia  160071.0            Mango  2.0   2896.0   \n",
       "2  230614.0  Monika Khatri  160055.0  Coriander Seeds  2.0   2870.0   \n",
       "3  230561.0   Lovely walia  160071.0            Honey  1.0   2895.0   \n",
       "4  230561.0   Lovely walia  160071.0  Coriander Seeds  1.0   2870.0   \n",
       "\n",
       "  Created Date  \n",
       "0   2021-05-09  \n",
       "1   2021-04-29  \n",
       "2   2021-05-09  \n",
       "3   2021-04-29  \n",
       "4   2021-04-29  "
      ]
     },
     "execution_count": 48,
     "metadata": {},
     "output_type": "execute_result"
    }
   ],
   "source": [
    "df.head()"
   ]
  },
  {
   "cell_type": "code",
   "execution_count": 51,
   "metadata": {},
   "outputs": [
    {
     "name": "stdout",
     "output_type": "stream",
     "text": [
      "Dataset is from 2021-04-13 00:00:00 to 2021-07-05 00:00:00\n"
     ]
    }
   ],
   "source": [
    "start_date = min(df['Created Date'])\n",
    "end_date = max(df['Created Date'])\n",
    "print('Dataset is from {} to {}'.format(start_date,end_date))     # i.e. data is from 13 April to 5 July"
   ]
  },
  {
   "cell_type": "code",
   "execution_count": 52,
   "metadata": {},
   "outputs": [
    {
     "data": {
      "text/plain": [
       "(3402, 7)"
      ]
     },
     "execution_count": 52,
     "metadata": {},
     "output_type": "execute_result"
    }
   ],
   "source": [
    "df.shape"
   ]
  },
  {
   "cell_type": "markdown",
   "metadata": {},
   "source": [
    "#### 3402 rows, 7 columns"
   ]
  },
  {
   "cell_type": "markdown",
   "metadata": {},
   "source": [
    "## Encoding customer names to category type ID"
   ]
  },
  {
   "cell_type": "code",
   "execution_count": 56,
   "metadata": {},
   "outputs": [],
   "source": [
    "df['Buyer ID'] = df['Buyer Name'].astype('category')"
   ]
  },
  {
   "cell_type": "code",
   "execution_count": 57,
   "metadata": {},
   "outputs": [],
   "source": [
    "#df.head()"
   ]
  },
  {
   "cell_type": "code",
   "execution_count": 58,
   "metadata": {},
   "outputs": [],
   "source": [
    "#df.info()"
   ]
  },
  {
   "cell_type": "code",
   "execution_count": 59,
   "metadata": {},
   "outputs": [
    {
     "data": {
      "text/html": [
       "<div>\n",
       "<style scoped>\n",
       "    .dataframe tbody tr th:only-of-type {\n",
       "        vertical-align: middle;\n",
       "    }\n",
       "\n",
       "    .dataframe tbody tr th {\n",
       "        vertical-align: top;\n",
       "    }\n",
       "\n",
       "    .dataframe thead th {\n",
       "        text-align: right;\n",
       "    }\n",
       "</style>\n",
       "<table border=\"1\" class=\"dataframe\">\n",
       "  <thead>\n",
       "    <tr style=\"text-align: right;\">\n",
       "      <th></th>\n",
       "      <th>Order</th>\n",
       "      <th>Buyer Name</th>\n",
       "      <th>PinCode</th>\n",
       "      <th>Crop Name</th>\n",
       "      <th>Qty</th>\n",
       "      <th>Crop ID</th>\n",
       "      <th>Created Date</th>\n",
       "      <th>Buyer ID</th>\n",
       "    </tr>\n",
       "  </thead>\n",
       "  <tbody>\n",
       "    <tr>\n",
       "      <th>0</th>\n",
       "      <td>230614.0</td>\n",
       "      <td>Monika Khatri</td>\n",
       "      <td>160055.0</td>\n",
       "      <td>Carrot</td>\n",
       "      <td>1.0</td>\n",
       "      <td>2856.0</td>\n",
       "      <td>2021-05-09</td>\n",
       "      <td>291</td>\n",
       "    </tr>\n",
       "    <tr>\n",
       "      <th>1</th>\n",
       "      <td>230561.0</td>\n",
       "      <td>Lovely walia</td>\n",
       "      <td>160071.0</td>\n",
       "      <td>Mango</td>\n",
       "      <td>2.0</td>\n",
       "      <td>2896.0</td>\n",
       "      <td>2021-04-29</td>\n",
       "      <td>259</td>\n",
       "    </tr>\n",
       "    <tr>\n",
       "      <th>2</th>\n",
       "      <td>230614.0</td>\n",
       "      <td>Monika Khatri</td>\n",
       "      <td>160055.0</td>\n",
       "      <td>Coriander Seeds</td>\n",
       "      <td>2.0</td>\n",
       "      <td>2870.0</td>\n",
       "      <td>2021-05-09</td>\n",
       "      <td>291</td>\n",
       "    </tr>\n",
       "    <tr>\n",
       "      <th>3</th>\n",
       "      <td>230561.0</td>\n",
       "      <td>Lovely walia</td>\n",
       "      <td>160071.0</td>\n",
       "      <td>Honey</td>\n",
       "      <td>1.0</td>\n",
       "      <td>2895.0</td>\n",
       "      <td>2021-04-29</td>\n",
       "      <td>259</td>\n",
       "    </tr>\n",
       "    <tr>\n",
       "      <th>4</th>\n",
       "      <td>230561.0</td>\n",
       "      <td>Lovely walia</td>\n",
       "      <td>160071.0</td>\n",
       "      <td>Coriander Seeds</td>\n",
       "      <td>1.0</td>\n",
       "      <td>2870.0</td>\n",
       "      <td>2021-04-29</td>\n",
       "      <td>259</td>\n",
       "    </tr>\n",
       "    <tr>\n",
       "      <th>...</th>\n",
       "      <td>...</td>\n",
       "      <td>...</td>\n",
       "      <td>...</td>\n",
       "      <td>...</td>\n",
       "      <td>...</td>\n",
       "      <td>...</td>\n",
       "      <td>...</td>\n",
       "      <td>...</td>\n",
       "    </tr>\n",
       "    <tr>\n",
       "      <th>3397</th>\n",
       "      <td>232002.0</td>\n",
       "      <td>Nidhi Mittal</td>\n",
       "      <td>560078.0</td>\n",
       "      <td>Cherry</td>\n",
       "      <td>2.0</td>\n",
       "      <td>3010.0</td>\n",
       "      <td>2021-06-22</td>\n",
       "      <td>317</td>\n",
       "    </tr>\n",
       "    <tr>\n",
       "      <th>3398</th>\n",
       "      <td>232072.0</td>\n",
       "      <td>Rashmi</td>\n",
       "      <td>560055.0</td>\n",
       "      <td>Cherry</td>\n",
       "      <td>1.0</td>\n",
       "      <td>3010.0</td>\n",
       "      <td>2021-06-29</td>\n",
       "      <td>398</td>\n",
       "    </tr>\n",
       "    <tr>\n",
       "      <th>3399</th>\n",
       "      <td>232009.0</td>\n",
       "      <td>Poonam Sharma</td>\n",
       "      <td>560062.0</td>\n",
       "      <td>Cherry</td>\n",
       "      <td>1.0</td>\n",
       "      <td>3010.0</td>\n",
       "      <td>2021-06-22</td>\n",
       "      <td>343</td>\n",
       "    </tr>\n",
       "    <tr>\n",
       "      <th>3400</th>\n",
       "      <td>232002.0</td>\n",
       "      <td>Nidhi Mittal</td>\n",
       "      <td>560078.0</td>\n",
       "      <td>Asafoetida (Hing)</td>\n",
       "      <td>1.0</td>\n",
       "      <td>2900.0</td>\n",
       "      <td>2021-06-22</td>\n",
       "      <td>317</td>\n",
       "    </tr>\n",
       "    <tr>\n",
       "      <th>3401</th>\n",
       "      <td>232010.0</td>\n",
       "      <td>Sunil Archak</td>\n",
       "      <td>110012.0</td>\n",
       "      <td>Amchur</td>\n",
       "      <td>1.0</td>\n",
       "      <td>3065.0</td>\n",
       "      <td>2021-06-22</td>\n",
       "      <td>544</td>\n",
       "    </tr>\n",
       "  </tbody>\n",
       "</table>\n",
       "<p>3402 rows × 8 columns</p>\n",
       "</div>"
      ],
      "text/plain": [
       "         Order     Buyer Name   PinCode          Crop Name  Qty  Crop ID  \\\n",
       "0     230614.0  Monika Khatri  160055.0             Carrot  1.0   2856.0   \n",
       "1     230561.0   Lovely walia  160071.0              Mango  2.0   2896.0   \n",
       "2     230614.0  Monika Khatri  160055.0    Coriander Seeds  2.0   2870.0   \n",
       "3     230561.0   Lovely walia  160071.0              Honey  1.0   2895.0   \n",
       "4     230561.0   Lovely walia  160071.0    Coriander Seeds  1.0   2870.0   \n",
       "...        ...            ...       ...                ...  ...      ...   \n",
       "3397  232002.0   Nidhi Mittal  560078.0             Cherry  2.0   3010.0   \n",
       "3398  232072.0         Rashmi  560055.0             Cherry  1.0   3010.0   \n",
       "3399  232009.0  Poonam Sharma  560062.0             Cherry  1.0   3010.0   \n",
       "3400  232002.0   Nidhi Mittal  560078.0  Asafoetida (Hing)  1.0   2900.0   \n",
       "3401  232010.0   Sunil Archak  110012.0             Amchur  1.0   3065.0   \n",
       "\n",
       "     Created Date  Buyer ID  \n",
       "0      2021-05-09       291  \n",
       "1      2021-04-29       259  \n",
       "2      2021-05-09       291  \n",
       "3      2021-04-29       259  \n",
       "4      2021-04-29       259  \n",
       "...           ...       ...  \n",
       "3397   2021-06-22       317  \n",
       "3398   2021-06-29       398  \n",
       "3399   2021-06-22       343  \n",
       "3400   2021-06-22       317  \n",
       "3401   2021-06-22       544  \n",
       "\n",
       "[3402 rows x 8 columns]"
      ]
     },
     "execution_count": 59,
     "metadata": {},
     "output_type": "execute_result"
    }
   ],
   "source": [
    "df['Buyer ID'] = df['Buyer ID'].cat.codes  \n",
    "df"
   ]
  },
  {
   "cell_type": "code",
   "execution_count": 81,
   "metadata": {},
   "outputs": [
    {
     "data": {
      "text/html": [
       "<div>\n",
       "<style scoped>\n",
       "    .dataframe tbody tr th:only-of-type {\n",
       "        vertical-align: middle;\n",
       "    }\n",
       "\n",
       "    .dataframe tbody tr th {\n",
       "        vertical-align: top;\n",
       "    }\n",
       "\n",
       "    .dataframe thead th {\n",
       "        text-align: right;\n",
       "    }\n",
       "</style>\n",
       "<table border=\"1\" class=\"dataframe\">\n",
       "  <thead>\n",
       "    <tr style=\"text-align: right;\">\n",
       "      <th></th>\n",
       "      <th>Order</th>\n",
       "      <th>Buyer Name</th>\n",
       "      <th>PinCode</th>\n",
       "      <th>Crop Name</th>\n",
       "      <th>Qty</th>\n",
       "      <th>Crop ID</th>\n",
       "      <th>Created Date</th>\n",
       "      <th>Buyer ID</th>\n",
       "    </tr>\n",
       "  </thead>\n",
       "  <tbody>\n",
       "    <tr>\n",
       "      <th>3184</th>\n",
       "      <td>231727.0</td>\n",
       "      <td>9501006124</td>\n",
       "      <td>160047.0</td>\n",
       "      <td>Mango</td>\n",
       "      <td>1.0</td>\n",
       "      <td>3047.0</td>\n",
       "      <td>2021-06-12</td>\n",
       "      <td>0</td>\n",
       "    </tr>\n",
       "  </tbody>\n",
       "</table>\n",
       "</div>"
      ],
      "text/plain": [
       "         Order  Buyer Name   PinCode Crop Name  Qty  Crop ID Created Date  \\\n",
       "3184  231727.0  9501006124  160047.0     Mango  1.0   3047.0   2021-06-12   \n",
       "\n",
       "      Buyer ID  \n",
       "3184         0  "
      ]
     },
     "execution_count": 81,
     "metadata": {},
     "output_type": "execute_result"
    }
   ],
   "source": [
    "df.loc[df['Buyer ID']==0]"
   ]
  },
  {
   "cell_type": "code",
   "execution_count": 85,
   "metadata": {},
   "outputs": [
    {
     "data": {
      "text/plain": [
       "651"
      ]
     },
     "execution_count": 85,
     "metadata": {},
     "output_type": "execute_result"
    }
   ],
   "source": [
    "mn = max(df['Buyer ID'])\n",
    "mn"
   ]
  },
  {
   "cell_type": "code",
   "execution_count": 96,
   "metadata": {
    "scrolled": true
   },
   "outputs": [],
   "source": [
    "#df['Buyer ID'].value_counts()     # similarly, df['Buyer ID'].nunique()   or,  # len(np.unique(df['Buyer ID']))"
   ]
  },
  {
   "cell_type": "code",
   "execution_count": 86,
   "metadata": {},
   "outputs": [],
   "source": [
    "#df['Buyer Name'].value_counts() "
   ]
  },
  {
   "cell_type": "code",
   "execution_count": 95,
   "metadata": {},
   "outputs": [],
   "source": [
    "#df['Crop ID'].value_counts()"
   ]
  },
  {
   "cell_type": "code",
   "execution_count": 87,
   "metadata": {},
   "outputs": [],
   "source": [
    "#df['Crop Name'].value_counts()"
   ]
  },
  {
   "cell_type": "code",
   "execution_count": 94,
   "metadata": {},
   "outputs": [],
   "source": [
    "#df['PinCode'].value_counts()"
   ]
  },
  {
   "cell_type": "markdown",
   "metadata": {},
   "source": [
    "### Unique numbers of buyers, crops and pincodes"
   ]
  },
  {
   "cell_type": "code",
   "execution_count": 98,
   "metadata": {},
   "outputs": [
    {
     "name": "stdout",
     "output_type": "stream",
     "text": [
      "Total data: \n",
      "------------------------------\n",
      "\n",
      "Total no. of buyers : 652\n",
      "Total no. of crops   : 159\n",
      "Total no. of pincodes : 291\n"
     ]
    }
   ],
   "source": [
    "print(\"Total data: \")\n",
    "print(\"-\"*30)\n",
    "print(\"\\nTotal no. of buyers :\", df['Buyer ID'].nunique())\n",
    "print(\"Total no. of crops   :\", df['Crop ID'].nunique())\n",
    "print(\"Total no. of pincodes :\", df['PinCode'].nunique())"
   ]
  },
  {
   "cell_type": "markdown",
   "metadata": {},
   "source": [
    "## Number of cutomers for each pincode and it's crop ID"
   ]
  },
  {
   "cell_type": "code",
   "execution_count": 63,
   "metadata": {},
   "outputs": [
    {
     "data": {
      "text/html": [
       "<div>\n",
       "<style scoped>\n",
       "    .dataframe tbody tr th:only-of-type {\n",
       "        vertical-align: middle;\n",
       "    }\n",
       "\n",
       "    .dataframe tbody tr th {\n",
       "        vertical-align: top;\n",
       "    }\n",
       "\n",
       "    .dataframe thead th {\n",
       "        text-align: right;\n",
       "    }\n",
       "</style>\n",
       "<table border=\"1\" class=\"dataframe\">\n",
       "  <thead>\n",
       "    <tr style=\"text-align: right;\">\n",
       "      <th></th>\n",
       "      <th></th>\n",
       "      <th>Buyer ID</th>\n",
       "    </tr>\n",
       "    <tr>\n",
       "      <th>PinCode</th>\n",
       "      <th>Crop ID</th>\n",
       "      <th></th>\n",
       "    </tr>\n",
       "  </thead>\n",
       "  <tbody>\n",
       "    <tr>\n",
       "      <th>110001.0</th>\n",
       "      <th>3047.0</th>\n",
       "      <td>1</td>\n",
       "    </tr>\n",
       "    <tr>\n",
       "      <th rowspan=\"3\" valign=\"top\">110008.0</th>\n",
       "      <th>2820.0</th>\n",
       "      <td>3</td>\n",
       "    </tr>\n",
       "    <tr>\n",
       "      <th>2984.0</th>\n",
       "      <td>3</td>\n",
       "    </tr>\n",
       "    <tr>\n",
       "      <th>3036.0</th>\n",
       "      <td>3</td>\n",
       "    </tr>\n",
       "    <tr>\n",
       "      <th rowspan=\"3\" valign=\"top\">110009.0</th>\n",
       "      <th>3023.0</th>\n",
       "      <td>1</td>\n",
       "    </tr>\n",
       "    <tr>\n",
       "      <th>3036.0</th>\n",
       "      <td>1</td>\n",
       "    </tr>\n",
       "    <tr>\n",
       "      <th>3037.0</th>\n",
       "      <td>1</td>\n",
       "    </tr>\n",
       "    <tr>\n",
       "      <th rowspan=\"8\" valign=\"top\">110012.0</th>\n",
       "      <th>2822.0</th>\n",
       "      <td>1</td>\n",
       "    </tr>\n",
       "    <tr>\n",
       "      <th>2874.0</th>\n",
       "      <td>1</td>\n",
       "    </tr>\n",
       "    <tr>\n",
       "      <th>2900.0</th>\n",
       "      <td>1</td>\n",
       "    </tr>\n",
       "    <tr>\n",
       "      <th>2901.0</th>\n",
       "      <td>1</td>\n",
       "    </tr>\n",
       "    <tr>\n",
       "      <th>2933.0</th>\n",
       "      <td>1</td>\n",
       "    </tr>\n",
       "    <tr>\n",
       "      <th>2963.0</th>\n",
       "      <td>1</td>\n",
       "    </tr>\n",
       "    <tr>\n",
       "      <th>2983.0</th>\n",
       "      <td>1</td>\n",
       "    </tr>\n",
       "    <tr>\n",
       "      <th>3065.0</th>\n",
       "      <td>1</td>\n",
       "    </tr>\n",
       "    <tr>\n",
       "      <th rowspan=\"5\" valign=\"top\">110015.0</th>\n",
       "      <th>3023.0</th>\n",
       "      <td>1</td>\n",
       "    </tr>\n",
       "    <tr>\n",
       "      <th>3036.0</th>\n",
       "      <td>2</td>\n",
       "    </tr>\n",
       "    <tr>\n",
       "      <th>3047.0</th>\n",
       "      <td>1</td>\n",
       "    </tr>\n",
       "    <tr>\n",
       "      <th>3048.0</th>\n",
       "      <td>3</td>\n",
       "    </tr>\n",
       "    <tr>\n",
       "      <th>3066.0</th>\n",
       "      <td>1</td>\n",
       "    </tr>\n",
       "  </tbody>\n",
       "</table>\n",
       "</div>"
      ],
      "text/plain": [
       "                  Buyer ID\n",
       "PinCode  Crop ID          \n",
       "110001.0 3047.0          1\n",
       "110008.0 2820.0          3\n",
       "         2984.0          3\n",
       "         3036.0          3\n",
       "110009.0 3023.0          1\n",
       "         3036.0          1\n",
       "         3037.0          1\n",
       "110012.0 2822.0          1\n",
       "         2874.0          1\n",
       "         2900.0          1\n",
       "         2901.0          1\n",
       "         2933.0          1\n",
       "         2963.0          1\n",
       "         2983.0          1\n",
       "         3065.0          1\n",
       "110015.0 3023.0          1\n",
       "         3036.0          2\n",
       "         3047.0          1\n",
       "         3048.0          3\n",
       "         3066.0          1"
      ]
     },
     "execution_count": 63,
     "metadata": {},
     "output_type": "execute_result"
    }
   ],
   "source": [
    "df_grp = pd.DataFrame(df.groupby(['PinCode','Crop ID'])['Buyer ID'].count())    # some pincodes have only 1 item\n",
    "df_grp.head(20)"
   ]
  },
  {
   "cell_type": "code",
   "execution_count": 64,
   "metadata": {},
   "outputs": [],
   "source": [
    "#df.plot.hist()"
   ]
  },
  {
   "cell_type": "markdown",
   "metadata": {},
   "source": [
    "## Visualising Quantity data"
   ]
  },
  {
   "cell_type": "code",
   "execution_count": 65,
   "metadata": {},
   "outputs": [
    {
     "data": {
      "image/png": "[encoded data removed]",
      "text/plain": [
       "<Figure size 1080x360 with 1 Axes>"
      ]
     },
     "metadata": {},
     "output_type": "display_data"
    }
   ],
   "source": [
    "# Check the distribution of the quantity\n",
    "with sns.axes_style('white'):\n",
    "    g = sns.factorplot('Qty', data=df, aspect=3.0, kind='count')   \n",
    "    g.set_ylabels('Count')"
   ]
  },
  {
   "cell_type": "markdown",
   "metadata": {},
   "source": [
    "#### Almost all of the quantity value is 1"
   ]
  },
  {
   "cell_type": "code",
   "execution_count": 66,
   "metadata": {},
   "outputs": [
    {
     "data": {
      "image/png": "[encoded data removed]",
      "text/plain": [
       "<Figure size 1080x360 with 1 Axes>"
      ]
     },
     "metadata": {},
     "output_type": "display_data"
    }
   ],
   "source": [
    "# Check the distribution of the Buyer id\n",
    "with sns.axes_style('white'):\n",
    "    g = sns.factorplot('Buyer ID', data=df, aspect=3.0, kind='count')   # x axis has 652 buyer ids \n",
    "    g.set_ylabels('Count')"
   ]
  },
  {
   "cell_type": "code",
   "execution_count": null,
   "metadata": {},
   "outputs": [],
   "source": []
  }
 ],
 "metadata": {
  "kernelspec": {
   "display_name": "Python 3",
   "language": "python",
   "name": "python3"
  },
  "language_info": {
   "codemirror_mode": {
    "name": "ipython",
    "version": 3
   },
   "file_extension": ".py",
   "mimetype": "text/x-python",
   "name": "python",
   "nbconvert_exporter": "python",
   "pygments_lexer": "ipython3",
   "version": "3.8.3"
  }
 },
 "nbformat": 4,
 "nbformat_minor": 4
}
